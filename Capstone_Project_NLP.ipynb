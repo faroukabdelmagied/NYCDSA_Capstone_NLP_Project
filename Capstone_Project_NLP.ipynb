{
  "nbformat": 4,
  "nbformat_minor": 0,
  "metadata": {
    "colab": {
      "name": "Capstone Project NLP.ipynb",
      "provenance": []
    },
    "kernelspec": {
      "name": "python3",
      "display_name": "Python 3"
    }
  },
  "cells": [
    {
      "cell_type": "markdown",
      "metadata": {
        "id": "HrqIuH0J6cLR"
      },
      "source": [
        "# Importing Libraries"
      ]
    },
    {
      "cell_type": "code",
      "metadata": {
        "id": "ALDRVOyG6eow"
      },
      "source": [
        "## Importing pandas\n",
        "import pandas as pd\n",
        "\n",
        "## Importing numpy\n",
        "import numpy as np\n",
        "\n",
        "## Importing nlp:\n",
        "import nltk\n",
        "import re\n",
        "\n",
        "## Importing the snowball stemmer:\n",
        "from nltk.stem.snowball import SnowballStemmer\n",
        "\n",
        "## Importing the stopwords library:\n",
        "from nltk.corpus import stopwords\n",
        "\n",
        "## Importing the worldcloud library\n",
        "import wordcloud\n",
        "\n",
        "## Importing the image library:\n",
        "from PIL import Image\n",
        "\n",
        "## Importing matplotlib\n",
        "import matplotlib.pyplot as plt\n",
        "\n",
        "## Import the FreqDist function from the nltk library:\n",
        "from nltk.probability import FreqDist"
      ],
      "execution_count": 2,
      "outputs": []
    },
    {
      "cell_type": "markdown",
      "metadata": {
        "id": "1g_iZxJf7QpF"
      },
      "source": [
        "# Download NLTK corpus/dictionaries"
      ]
    },
    {
      "cell_type": "code",
      "metadata": {
        "colab": {
          "base_uri": "https://localhost:8080/"
        },
        "id": "KzyqwkQs7ZzW",
        "outputId": "bd2d3fba-cdcf-427f-f585-e3b629ead09a"
      },
      "source": [
        "## Download NLTK corpus\n",
        "nltk.download('punkt') # Dictionary of punctuation\n",
        "nltk.download('stopwords') # Dictionary of stopwords"
      ],
      "execution_count": 3,
      "outputs": [
        {
          "output_type": "stream",
          "text": [
            "[nltk_data] Downloading package punkt to /root/nltk_data...\n",
            "[nltk_data]   Unzipping tokenizers/punkt.zip.\n",
            "[nltk_data] Downloading package stopwords to /root/nltk_data...\n",
            "[nltk_data]   Unzipping corpora/stopwords.zip.\n"
          ],
          "name": "stdout"
        },
        {
          "output_type": "execute_result",
          "data": {
            "text/plain": [
              "True"
            ]
          },
          "metadata": {
            "tags": []
          },
          "execution_count": 3
        }
      ]
    },
    {
      "cell_type": "markdown",
      "metadata": {
        "id": "SQeT2_BJA32O"
      },
      "source": [
        "# Preprocessing"
      ]
    },
    {
      "cell_type": "markdown",
      "metadata": {
        "id": "qUlZxJeS7weh"
      },
      "source": [
        "## Reading and Exploring the Dataset"
      ]
    },
    {
      "cell_type": "code",
      "metadata": {
        "id": "00Ocq9jO71Wt"
      },
      "source": [
        "## Reading the Dataset:\n",
        "movies_df = pd.read_csv('movies.csv')"
      ],
      "execution_count": 4,
      "outputs": []
    },
    {
      "cell_type": "code",
      "metadata": {
        "colab": {
          "base_uri": "https://localhost:8080/",
          "height": 419
        },
        "id": "6Cr0X0uw-GRF",
        "outputId": "fe8e17c1-12c4-4ba1-cc5e-e73d6fb7997c"
      },
      "source": [
        "movies_df"
      ],
      "execution_count": 5,
      "outputs": [
        {
          "output_type": "execute_result",
          "data": {
            "text/html": [
              "<div>\n",
              "<style scoped>\n",
              "    .dataframe tbody tr th:only-of-type {\n",
              "        vertical-align: middle;\n",
              "    }\n",
              "\n",
              "    .dataframe tbody tr th {\n",
              "        vertical-align: top;\n",
              "    }\n",
              "\n",
              "    .dataframe thead th {\n",
              "        text-align: right;\n",
              "    }\n",
              "</style>\n",
              "<table border=\"1\" class=\"dataframe\">\n",
              "  <thead>\n",
              "    <tr style=\"text-align: right;\">\n",
              "      <th></th>\n",
              "      <th>rank</th>\n",
              "      <th>title</th>\n",
              "      <th>genre</th>\n",
              "      <th>wiki_plot</th>\n",
              "      <th>imdb_plot</th>\n",
              "    </tr>\n",
              "  </thead>\n",
              "  <tbody>\n",
              "    <tr>\n",
              "      <th>0</th>\n",
              "      <td>0</td>\n",
              "      <td>The Godfather</td>\n",
              "      <td>[u' Crime', u' Drama']</td>\n",
              "      <td>On the day of his only daughter's wedding, Vit...</td>\n",
              "      <td>In late summer 1945, guests are gathered for t...</td>\n",
              "    </tr>\n",
              "    <tr>\n",
              "      <th>1</th>\n",
              "      <td>1</td>\n",
              "      <td>The Shawshank Redemption</td>\n",
              "      <td>[u' Crime', u' Drama']</td>\n",
              "      <td>In 1947, banker Andy Dufresne is convicted of ...</td>\n",
              "      <td>In 1947, Andy Dufresne (Tim Robbins), a banker...</td>\n",
              "    </tr>\n",
              "    <tr>\n",
              "      <th>2</th>\n",
              "      <td>2</td>\n",
              "      <td>Schindler's List</td>\n",
              "      <td>[u' Biography', u' Drama', u' History']</td>\n",
              "      <td>In 1939, the Germans move Polish Jews into the...</td>\n",
              "      <td>The relocation of Polish Jews from surrounding...</td>\n",
              "    </tr>\n",
              "    <tr>\n",
              "      <th>3</th>\n",
              "      <td>3</td>\n",
              "      <td>Raging Bull</td>\n",
              "      <td>[u' Biography', u' Drama', u' Sport']</td>\n",
              "      <td>In a brief scene in 1964, an aging, overweight...</td>\n",
              "      <td>The film opens in 1964, where an older and fat...</td>\n",
              "    </tr>\n",
              "    <tr>\n",
              "      <th>4</th>\n",
              "      <td>4</td>\n",
              "      <td>Casablanca</td>\n",
              "      <td>[u' Drama', u' Romance', u' War']</td>\n",
              "      <td>It is early December 1941. American expatriate...</td>\n",
              "      <td>In the early years of World War II, December 1...</td>\n",
              "    </tr>\n",
              "    <tr>\n",
              "      <th>...</th>\n",
              "      <td>...</td>\n",
              "      <td>...</td>\n",
              "      <td>...</td>\n",
              "      <td>...</td>\n",
              "      <td>...</td>\n",
              "    </tr>\n",
              "    <tr>\n",
              "      <th>95</th>\n",
              "      <td>95</td>\n",
              "      <td>Rebel Without a Cause</td>\n",
              "      <td>[u' Drama']</td>\n",
              "      <td>\\n\\n\\n\\nJim Stark is in police custody.\\n\\n  \\...</td>\n",
              "      <td>Shortly after moving to Los Angeles with his p...</td>\n",
              "    </tr>\n",
              "    <tr>\n",
              "      <th>96</th>\n",
              "      <td>96</td>\n",
              "      <td>Rear Window</td>\n",
              "      <td>[u' Mystery', u' Thriller']</td>\n",
              "      <td>\\n\\n\\n\\nJames Stewart as L.B. Jefferies\\n\\n  \\...</td>\n",
              "      <td>L.B. \"Jeff\" Jeffries (James Stewart) recuperat...</td>\n",
              "    </tr>\n",
              "    <tr>\n",
              "      <th>97</th>\n",
              "      <td>97</td>\n",
              "      <td>The Third Man</td>\n",
              "      <td>[u' Film-Noir', u' Mystery', u' Thriller']</td>\n",
              "      <td>\\n\\n\\n\\nSocial network mapping all major chara...</td>\n",
              "      <td>Sights of Vienna, Austria, flash across the sc...</td>\n",
              "    </tr>\n",
              "    <tr>\n",
              "      <th>98</th>\n",
              "      <td>98</td>\n",
              "      <td>North by Northwest</td>\n",
              "      <td>[u' Mystery', u' Thriller']</td>\n",
              "      <td>Advertising executive Roger O. Thornhill is mi...</td>\n",
              "      <td>At the end of an ordinary work day, advertisin...</td>\n",
              "    </tr>\n",
              "    <tr>\n",
              "      <th>99</th>\n",
              "      <td>99</td>\n",
              "      <td>Yankee Doodle Dandy</td>\n",
              "      <td>[u' Biography', u' Drama', u' Musical']</td>\n",
              "      <td>\\n  In the early days of World War II, Cohan ...</td>\n",
              "      <td>NaN</td>\n",
              "    </tr>\n",
              "  </tbody>\n",
              "</table>\n",
              "<p>100 rows × 5 columns</p>\n",
              "</div>"
            ],
            "text/plain": [
              "    rank  ...                                          imdb_plot\n",
              "0      0  ...  In late summer 1945, guests are gathered for t...\n",
              "1      1  ...  In 1947, Andy Dufresne (Tim Robbins), a banker...\n",
              "2      2  ...  The relocation of Polish Jews from surrounding...\n",
              "3      3  ...  The film opens in 1964, where an older and fat...\n",
              "4      4  ...  In the early years of World War II, December 1...\n",
              "..   ...  ...                                                ...\n",
              "95    95  ...  Shortly after moving to Los Angeles with his p...\n",
              "96    96  ...  L.B. \"Jeff\" Jeffries (James Stewart) recuperat...\n",
              "97    97  ...  Sights of Vienna, Austria, flash across the sc...\n",
              "98    98  ...  At the end of an ordinary work day, advertisin...\n",
              "99    99  ...                                                NaN\n",
              "\n",
              "[100 rows x 5 columns]"
            ]
          },
          "metadata": {
            "tags": []
          },
          "execution_count": 5
        }
      ]
    },
    {
      "cell_type": "markdown",
      "metadata": {
        "id": "8XUmKGt_-Tf2"
      },
      "source": [
        "## Working on the Dataset"
      ]
    },
    {
      "cell_type": "code",
      "metadata": {
        "id": "dOP5qYKp-lS0"
      },
      "source": [
        "## Combining both the wiki and the imdb plots together into a single coloumn called plot:\n",
        "movies_df['plot'] = movies_df['wiki_plot'].astype(str) + '\\n' + movies_df['imdb_plot'].astype(str)"
      ],
      "execution_count": 6,
      "outputs": []
    },
    {
      "cell_type": "code",
      "metadata": {
        "colab": {
          "base_uri": "https://localhost:8080/",
          "height": 419
        },
        "id": "1-H3DpD7_fnw",
        "outputId": "a127c454-b5da-4c1e-de86-cc82f3450c34"
      },
      "source": [
        "movies_df"
      ],
      "execution_count": 7,
      "outputs": [
        {
          "output_type": "execute_result",
          "data": {
            "text/html": [
              "<div>\n",
              "<style scoped>\n",
              "    .dataframe tbody tr th:only-of-type {\n",
              "        vertical-align: middle;\n",
              "    }\n",
              "\n",
              "    .dataframe tbody tr th {\n",
              "        vertical-align: top;\n",
              "    }\n",
              "\n",
              "    .dataframe thead th {\n",
              "        text-align: right;\n",
              "    }\n",
              "</style>\n",
              "<table border=\"1\" class=\"dataframe\">\n",
              "  <thead>\n",
              "    <tr style=\"text-align: right;\">\n",
              "      <th></th>\n",
              "      <th>rank</th>\n",
              "      <th>title</th>\n",
              "      <th>genre</th>\n",
              "      <th>wiki_plot</th>\n",
              "      <th>imdb_plot</th>\n",
              "      <th>plot</th>\n",
              "    </tr>\n",
              "  </thead>\n",
              "  <tbody>\n",
              "    <tr>\n",
              "      <th>0</th>\n",
              "      <td>0</td>\n",
              "      <td>The Godfather</td>\n",
              "      <td>[u' Crime', u' Drama']</td>\n",
              "      <td>On the day of his only daughter's wedding, Vit...</td>\n",
              "      <td>In late summer 1945, guests are gathered for t...</td>\n",
              "      <td>On the day of his only daughter's wedding, Vit...</td>\n",
              "    </tr>\n",
              "    <tr>\n",
              "      <th>1</th>\n",
              "      <td>1</td>\n",
              "      <td>The Shawshank Redemption</td>\n",
              "      <td>[u' Crime', u' Drama']</td>\n",
              "      <td>In 1947, banker Andy Dufresne is convicted of ...</td>\n",
              "      <td>In 1947, Andy Dufresne (Tim Robbins), a banker...</td>\n",
              "      <td>In 1947, banker Andy Dufresne is convicted of ...</td>\n",
              "    </tr>\n",
              "    <tr>\n",
              "      <th>2</th>\n",
              "      <td>2</td>\n",
              "      <td>Schindler's List</td>\n",
              "      <td>[u' Biography', u' Drama', u' History']</td>\n",
              "      <td>In 1939, the Germans move Polish Jews into the...</td>\n",
              "      <td>The relocation of Polish Jews from surrounding...</td>\n",
              "      <td>In 1939, the Germans move Polish Jews into the...</td>\n",
              "    </tr>\n",
              "    <tr>\n",
              "      <th>3</th>\n",
              "      <td>3</td>\n",
              "      <td>Raging Bull</td>\n",
              "      <td>[u' Biography', u' Drama', u' Sport']</td>\n",
              "      <td>In a brief scene in 1964, an aging, overweight...</td>\n",
              "      <td>The film opens in 1964, where an older and fat...</td>\n",
              "      <td>In a brief scene in 1964, an aging, overweight...</td>\n",
              "    </tr>\n",
              "    <tr>\n",
              "      <th>4</th>\n",
              "      <td>4</td>\n",
              "      <td>Casablanca</td>\n",
              "      <td>[u' Drama', u' Romance', u' War']</td>\n",
              "      <td>It is early December 1941. American expatriate...</td>\n",
              "      <td>In the early years of World War II, December 1...</td>\n",
              "      <td>It is early December 1941. American expatriate...</td>\n",
              "    </tr>\n",
              "    <tr>\n",
              "      <th>...</th>\n",
              "      <td>...</td>\n",
              "      <td>...</td>\n",
              "      <td>...</td>\n",
              "      <td>...</td>\n",
              "      <td>...</td>\n",
              "      <td>...</td>\n",
              "    </tr>\n",
              "    <tr>\n",
              "      <th>95</th>\n",
              "      <td>95</td>\n",
              "      <td>Rebel Without a Cause</td>\n",
              "      <td>[u' Drama']</td>\n",
              "      <td>\\n\\n\\n\\nJim Stark is in police custody.\\n\\n  \\...</td>\n",
              "      <td>Shortly after moving to Los Angeles with his p...</td>\n",
              "      <td>\\n\\n\\n\\nJim Stark is in police custody.\\n\\n  \\...</td>\n",
              "    </tr>\n",
              "    <tr>\n",
              "      <th>96</th>\n",
              "      <td>96</td>\n",
              "      <td>Rear Window</td>\n",
              "      <td>[u' Mystery', u' Thriller']</td>\n",
              "      <td>\\n\\n\\n\\nJames Stewart as L.B. Jefferies\\n\\n  \\...</td>\n",
              "      <td>L.B. \"Jeff\" Jeffries (James Stewart) recuperat...</td>\n",
              "      <td>\\n\\n\\n\\nJames Stewart as L.B. Jefferies\\n\\n  \\...</td>\n",
              "    </tr>\n",
              "    <tr>\n",
              "      <th>97</th>\n",
              "      <td>97</td>\n",
              "      <td>The Third Man</td>\n",
              "      <td>[u' Film-Noir', u' Mystery', u' Thriller']</td>\n",
              "      <td>\\n\\n\\n\\nSocial network mapping all major chara...</td>\n",
              "      <td>Sights of Vienna, Austria, flash across the sc...</td>\n",
              "      <td>\\n\\n\\n\\nSocial network mapping all major chara...</td>\n",
              "    </tr>\n",
              "    <tr>\n",
              "      <th>98</th>\n",
              "      <td>98</td>\n",
              "      <td>North by Northwest</td>\n",
              "      <td>[u' Mystery', u' Thriller']</td>\n",
              "      <td>Advertising executive Roger O. Thornhill is mi...</td>\n",
              "      <td>At the end of an ordinary work day, advertisin...</td>\n",
              "      <td>Advertising executive Roger O. Thornhill is mi...</td>\n",
              "    </tr>\n",
              "    <tr>\n",
              "      <th>99</th>\n",
              "      <td>99</td>\n",
              "      <td>Yankee Doodle Dandy</td>\n",
              "      <td>[u' Biography', u' Drama', u' Musical']</td>\n",
              "      <td>\\n  In the early days of World War II, Cohan ...</td>\n",
              "      <td>NaN</td>\n",
              "      <td>\\n  In the early days of World War II, Cohan ...</td>\n",
              "    </tr>\n",
              "  </tbody>\n",
              "</table>\n",
              "<p>100 rows × 6 columns</p>\n",
              "</div>"
            ],
            "text/plain": [
              "    rank  ...                                               plot\n",
              "0      0  ...  On the day of his only daughter's wedding, Vit...\n",
              "1      1  ...  In 1947, banker Andy Dufresne is convicted of ...\n",
              "2      2  ...  In 1939, the Germans move Polish Jews into the...\n",
              "3      3  ...  In a brief scene in 1964, an aging, overweight...\n",
              "4      4  ...  It is early December 1941. American expatriate...\n",
              "..   ...  ...                                                ...\n",
              "95    95  ...  \\n\\n\\n\\nJim Stark is in police custody.\\n\\n  \\...\n",
              "96    96  ...  \\n\\n\\n\\nJames Stewart as L.B. Jefferies\\n\\n  \\...\n",
              "97    97  ...  \\n\\n\\n\\nSocial network mapping all major chara...\n",
              "98    98  ...  Advertising executive Roger O. Thornhill is mi...\n",
              "99    99  ...   \\n  In the early days of World War II, Cohan ...\n",
              "\n",
              "[100 rows x 6 columns]"
            ]
          },
          "metadata": {
            "tags": []
          },
          "execution_count": 7
        }
      ]
    },
    {
      "cell_type": "markdown",
      "metadata": {
        "id": "zlyWonNI_l2D"
      },
      "source": [
        "## Tokenization and Stemming"
      ]
    },
    {
      "cell_type": "code",
      "metadata": {
        "id": "mExkc7hR_pGv"
      },
      "source": [
        "## Defining a function to perform tokenization and stemming\n",
        "def tokenize_and_stem(text):\n",
        "\n",
        "  # Tokenize by sentence and then by word:\n",
        "  tokens  = [word for sent in nltk.sent_tokenize(text) for word in nltk.word_tokenize(sent)]\n",
        "\n",
        "  # Remove tokens that do not have letters:\n",
        "  raw_tokens = [token for token in tokens if re.search('[a-zA-Z]', token)]\n",
        "\n",
        "  # Remove stopwords:\n",
        "  ## Initialize the stopword function:\n",
        "  en_stop = set(stopwords.words('english'))\n",
        "  filtered_tokens = [token for token in raw_tokens if not token in en_stop]\n",
        "\n",
        "  ## Stem the tokens:\n",
        "  ## Initialize the stemmer:\n",
        "  stemmer = SnowballStemmer('english')\n",
        "  stems = [stemmer.stem(token) for token in filtered_tokens]\n",
        "\n",
        "  return stems"
      ],
      "execution_count": 8,
      "outputs": []
    },
    {
      "cell_type": "markdown",
      "metadata": {
        "id": "onv1jmxHBDkf"
      },
      "source": [
        "# Exploring the Preprocessing Output"
      ]
    },
    {
      "cell_type": "markdown",
      "metadata": {
        "id": "-6bLgZ_hE0Vk"
      },
      "source": [
        "## Wordcloud"
      ]
    },
    {
      "cell_type": "markdown",
      "metadata": {
        "id": "GctEAbBIBUir"
      },
      "source": [
        "### Formulating Wordcloud"
      ]
    },
    {
      "cell_type": "code",
      "metadata": {
        "colab": {
          "base_uri": "https://localhost:8080/",
          "height": 217
        },
        "id": "bIIxh1VLCjB3",
        "outputId": "b84d99c9-2933-41cd-d780-5281b8852b37"
      },
      "source": [
        "## Join the different plots together into a long string:\n",
        "long_string = ''.join(movies_df['plot'])\n",
        "\n",
        "## Instance the world cloud object:\n",
        "wordcloud_1 = wordcloud.WordCloud()\n",
        "\n",
        "## Generate Wordcloud from text or from the long string that has just formed:\n",
        "wordcloud_1.generate(long_string)\n",
        "\n",
        "## Visualizing the wordcloud:\n",
        "wordcloud_1.to_image()"
      ],
      "execution_count": 9,
      "outputs": [
        {
          "output_type": "execute_result",
          "data": {
            "image/png": "[encoded data removed]",
            "text/plain": [
              "<PIL.Image.Image image mode=RGB size=400x200 at 0x7FC81E710BD0>"
            ]
          },
          "metadata": {
            "tags": []
          },
          "execution_count": 9
        }
      ]
    },
    {
      "cell_type": "markdown",
      "metadata": {
        "id": "POm0oMgUCxyj"
      },
      "source": [
        "### Apply the Wordcloud to mask"
      ]
    },
    {
      "cell_type": "code",
      "metadata": {
        "colab": {
          "base_uri": "https://localhost:8080/"
        },
        "id": "IMNnFQV-C1ae",
        "outputId": "6b9e713b-8946-44d5-a45f-bc4048b99684"
      },
      "source": [
        "## Read the mask image:\n",
        "projector_mask = np.array(Image.open('projector.png'))\n",
        "\n",
        "## Applying the loaded mask to the word cloud:\n",
        "\n",
        "## Instancing the wordcloud:\n",
        "wc = wordcloud.WordCloud(background_color='white',\n",
        "                         max_words=2000,\n",
        "                         mask=projector_mask,\n",
        "                         contour_width=0)\n",
        "\n",
        "## Generating the wordcloud\n",
        "wc.generate(long_string)"
      ],
      "execution_count": 11,
      "outputs": [
        {
          "output_type": "execute_result",
          "data": {
            "text/plain": [
              "<wordcloud.wordcloud.WordCloud at 0x7fc81dd38190>"
            ]
          },
          "metadata": {
            "tags": []
          },
          "execution_count": 11
        }
      ]
    },
    {
      "cell_type": "markdown",
      "metadata": {
        "id": "89h9wMJZEbWo"
      },
      "source": [
        "### Plotting the Wordcloud"
      ]
    },
    {
      "cell_type": "code",
      "metadata": {
        "colab": {
          "base_uri": "https://localhost:8080/",
          "height": 282
        },
        "id": "UoJollF2Efan",
        "outputId": "1c308303-daed-428b-c327-47d6ffc3d553"
      },
      "source": [
        "## Plotting the wc\n",
        "plt.imshow(wc, interpolation='bilinear')\n",
        "plt.axis('off')\n",
        "plt.figure()"
      ],
      "execution_count": 12,
      "outputs": [
        {
          "output_type": "execute_result",
          "data": {
            "text/plain": [
              "<Figure size 432x288 with 0 Axes>"
            ]
          },
          "metadata": {
            "tags": []
          },
          "execution_count": 12
        },
        {
          "output_type": "display_data",
          "data": {
            "image/png": "[encoded data removed]",
            "text/plain": [
              "<Figure size 432x288 with 1 Axes>"
            ]
          },
          "metadata": {
            "tags": [],
            "needs_background": "light"
          }
        },
        {
          "output_type": "display_data",
          "data": {
            "text/plain": [
              "<Figure size 432x288 with 0 Axes>"
            ]
          },
          "metadata": {
            "tags": []
          }
        }
      ]
    },
    {
      "cell_type": "markdown",
      "metadata": {
        "id": "hrQC4fQVFDJa"
      },
      "source": [
        "## Identifying Common Words"
      ]
    },
    {
      "cell_type": "code",
      "metadata": {
        "id": "CsLjELTrFPW9"
      },
      "source": [
        "## We are going to use the long string that we combined from above to fined the most common words in all of the texts:\n",
        "\n",
        "## But first we need to tokenize the whole string and then stemm it - using the tokenize_and_stem function:\n",
        "StemmedFullText = tokenize_and_stem(long_string)\n",
        "\n",
        "## Calculate the frequency distribution of the words:\n",
        "fdist = FreqDist(StemmedFullText)\n",
        "\n",
        "## Create a Dataframe with the content:\n",
        "most_common = pd.DataFrame(fdist.most_common(n=10), columns=['Word', 'Frequency'])"
      ],
      "execution_count": 13,
      "outputs": []
    },
    {
      "cell_type": "code",
      "metadata": {
        "colab": {
          "base_uri": "https://localhost:8080/",
          "height": 551
        },
        "id": "LWvl3DibFbDG",
        "outputId": "9fd9410f-7ff5-4bb9-da94-8f08aeb28cd3"
      },
      "source": [
        "## Creating a bar plot with the frequency of words:\n",
        "fig = plt.bar(most_common.iloc[:,0], most_common.iloc[:,1])\n",
        "\n",
        "## Adding labels and titles to the figure:\n",
        "plt.xlabel('Word')\n",
        "plt.ylabel('Frequency')\n",
        "plt.rcParams['figure.figsize'] = (9,9)"
      ],
      "execution_count": 15,
      "outputs": [
        {
          "output_type": "display_data",
          "data": {
            "image/png": "[encoded data removed]",
            "text/plain": [
              "<Figure size 648x648 with 1 Axes>"
            ]
          },
          "metadata": {
            "tags": [],
            "needs_background": "light"
          }
        }
      ]
    },
    {
      "cell_type": "markdown",
      "metadata": {
        "id": "nVLv_w2qF6X8"
      },
      "source": [
        "# Modelling/Measuring Text Similarity"
      ]
    },
    {
      "cell_type": "markdown",
      "metadata": {
        "id": "BELZdVF-GH8U"
      },
      "source": [
        "## TF-IDF Vectorizor"
      ]
    },
    {
      "cell_type": "code",
      "metadata": {
        "id": "ffYdZG75GMGd"
      },
      "source": [
        "## Importing the library:\n",
        "from sklearn.feature_extraction.text import TfidfVectorizer"
      ],
      "execution_count": 16,
      "outputs": []
    },
    {
      "cell_type": "code",
      "metadata": {
        "colab": {
          "base_uri": "https://localhost:8080/"
        },
        "id": "mCwQtqY-GPRq",
        "outputId": "b6e63603-da93-4b33-fe5c-02213f144da2"
      },
      "source": [
        "## Instancing the vectorizer object:\n",
        "\n",
        "tfidf = TfidfVectorizer(max_df = 0.8,\n",
        "                        min_df = 0.2,\n",
        "                        max_features = 200000,\n",
        "                        stop_words = 'english',\n",
        "                        use_idf = True,\n",
        "                        tokenizer = tokenize_and_stem,\n",
        "                        ngram_range=(1,3))\n",
        "\n",
        "tfidf"
      ],
      "execution_count": 17,
      "outputs": [
        {
          "output_type": "execute_result",
          "data": {
            "text/plain": [
              "TfidfVectorizer(analyzer='word', binary=False, decode_error='strict',\n",
              "                dtype=<class 'numpy.float64'>, encoding='utf-8',\n",
              "                input='content', lowercase=True, max_df=0.8,\n",
              "                max_features=200000, min_df=0.2, ngram_range=(1, 3), norm='l2',\n",
              "                preprocessor=None, smooth_idf=True, stop_words='english',\n",
              "                strip_accents=None, sublinear_tf=False,\n",
              "                token_pattern='(?u)\\\\b\\\\w\\\\w+\\\\b',\n",
              "                tokenizer=<function tokenize_and_stem at 0x7fc81e6f8c20>,\n",
              "                use_idf=True, vocabulary=None)"
            ]
          },
          "metadata": {
            "tags": []
          },
          "execution_count": 17
        }
      ]
    },
    {
      "cell_type": "code",
      "metadata": {
        "colab": {
          "base_uri": "https://localhost:8080/"
        },
        "id": "c_Kge2DYGTUh",
        "outputId": "f8786495-df9e-49ed-806b-5738170c76a3"
      },
      "source": [
        "## Fit and transform with the movie plots\n",
        "\n",
        "tfidf_matrix = tfidf.fit_transform([x for x in movies_df['plot']])\n",
        "\n",
        "tfidf_matrix"
      ],
      "execution_count": 18,
      "outputs": [
        {
          "output_type": "stream",
          "text": [
            "/usr/local/lib/python3.7/dist-packages/sklearn/feature_extraction/text.py:385: UserWarning: Your stop_words may be inconsistent with your preprocessing. Tokenizing the stop words generated tokens ['afterward', 'alon', 'alreadi', 'alway', 'anoth', 'anyon', 'anyth', 'anywher', 'becam', 'becom', 'besid', 'cri', 'describ', 'els', 'elsewher', 'empti', 'everi', 'everyon', 'everyth', 'everywher', 'fifti', 'forti', 'henc', 'hereaft', 'herebi', 'howev', 'hundr', 'inde', 'mani', 'meanwhil', 'moreov', 'nobodi', 'noon', 'noth', 'nowher', 'otherwis', 'perhap', 'pleas', 'sever', 'sinc', 'sincer', 'sixti', 'someon', 'someth', 'sometim', 'somewher', 'thenc', 'thereaft', 'therebi', 'therefor', 'togeth', 'twelv', 'twenti', 'whatev', 'whenc', 'whenev', 'wherea', 'whereaft', 'wherebi', 'wherev'] not in stop_words.\n",
            "  'stop_words.' % sorted(inconsistent))\n"
          ],
          "name": "stderr"
        },
        {
          "output_type": "execute_result",
          "data": {
            "text/plain": [
              "<100x552 sparse matrix of type '<class 'numpy.float64'>'\n",
              "\twith 19326 stored elements in Compressed Sparse Row format>"
            ]
          },
          "metadata": {
            "tags": []
          },
          "execution_count": 18
        }
      ]
    },
    {
      "cell_type": "code",
      "metadata": {
        "colab": {
          "base_uri": "https://localhost:8080/"
        },
        "id": "gI69EpUgGW2u",
        "outputId": "6fcba38e-818e-4d53-d61e-ecdf3bfd0cfe"
      },
      "source": [
        "## Exploring the matrix:\n",
        "tfidf_matrix[0:5]"
      ],
      "execution_count": 19,
      "outputs": [
        {
          "output_type": "execute_result",
          "data": {
            "text/plain": [
              "<5x552 sparse matrix of type '<class 'numpy.float64'>'\n",
              "\twith 1087 stored elements in Compressed Sparse Row format>"
            ]
          },
          "metadata": {
            "tags": []
          },
          "execution_count": 19
        }
      ]
    },
    {
      "cell_type": "markdown",
      "metadata": {
        "id": "LfXu13WdGgGx"
      },
      "source": [
        "## Measuring Cosine Similarity - Similarity Distance"
      ]
    },
    {
      "cell_type": "code",
      "metadata": {
        "id": "mEWtOCi0GmOv"
      },
      "source": [
        "## Importing the relevant library:\n",
        "from sklearn.metrics.pairwise import cosine_similarity"
      ],
      "execution_count": 20,
      "outputs": []
    },
    {
      "cell_type": "code",
      "metadata": {
        "colab": {
          "base_uri": "https://localhost:8080/"
        },
        "id": "XWoyzmn_Grc7",
        "outputId": "16c644d4-b177-4315-a2ee-997a664511a3"
      },
      "source": [
        "## Applying the cosine similarity and calculating the similarity distance\n",
        "similarity_distance = 1 - cosine_similarity(tfidf_matrix)\n",
        "\n",
        "print(similarity_distance.shape)"
      ],
      "execution_count": 21,
      "outputs": [
        {
          "output_type": "stream",
          "text": [
            "(100, 100)\n"
          ],
          "name": "stdout"
        }
      ]
    },
    {
      "cell_type": "code",
      "metadata": {
        "colab": {
          "base_uri": "https://localhost:8080/",
          "height": 609
        },
        "id": "Q2GgQ5sXGuiK",
        "outputId": "e6ab7f54-b5f8-4b0c-edec-6caf6ec94d7b"
      },
      "source": [
        "## Presenting the similarity distance between documents\n",
        "distance = pd.DataFrame(similarity_distance)\n",
        "\n",
        "distance"
      ],
      "execution_count": 22,
      "outputs": [
        {
          "output_type": "execute_result",
          "data": {
            "text/html": [
              "<div>\n",
              "<style scoped>\n",
              "    .dataframe tbody tr th:only-of-type {\n",
              "        vertical-align: middle;\n",
              "    }\n",
              "\n",
              "    .dataframe tbody tr th {\n",
              "        vertical-align: top;\n",
              "    }\n",
              "\n",
              "    .dataframe thead th {\n",
              "        text-align: right;\n",
              "    }\n",
              "</style>\n",
              "<table border=\"1\" class=\"dataframe\">\n",
              "  <thead>\n",
              "    <tr style=\"text-align: right;\">\n",
              "      <th></th>\n",
              "      <th>0</th>\n",
              "      <th>1</th>\n",
              "      <th>2</th>\n",
              "      <th>3</th>\n",
              "      <th>4</th>\n",
              "      <th>5</th>\n",
              "      <th>6</th>\n",
              "      <th>7</th>\n",
              "      <th>8</th>\n",
              "      <th>9</th>\n",
              "      <th>10</th>\n",
              "      <th>11</th>\n",
              "      <th>12</th>\n",
              "      <th>13</th>\n",
              "      <th>14</th>\n",
              "      <th>15</th>\n",
              "      <th>16</th>\n",
              "      <th>17</th>\n",
              "      <th>18</th>\n",
              "      <th>19</th>\n",
              "      <th>20</th>\n",
              "      <th>21</th>\n",
              "      <th>22</th>\n",
              "      <th>23</th>\n",
              "      <th>24</th>\n",
              "      <th>25</th>\n",
              "      <th>26</th>\n",
              "      <th>27</th>\n",
              "      <th>28</th>\n",
              "      <th>29</th>\n",
              "      <th>30</th>\n",
              "      <th>31</th>\n",
              "      <th>32</th>\n",
              "      <th>33</th>\n",
              "      <th>34</th>\n",
              "      <th>35</th>\n",
              "      <th>36</th>\n",
              "      <th>37</th>\n",
              "      <th>38</th>\n",
              "      <th>39</th>\n",
              "      <th>...</th>\n",
              "      <th>60</th>\n",
              "      <th>61</th>\n",
              "      <th>62</th>\n",
              "      <th>63</th>\n",
              "      <th>64</th>\n",
              "      <th>65</th>\n",
              "      <th>66</th>\n",
              "      <th>67</th>\n",
              "      <th>68</th>\n",
              "      <th>69</th>\n",
              "      <th>70</th>\n",
              "      <th>71</th>\n",
              "      <th>72</th>\n",
              "      <th>73</th>\n",
              "      <th>74</th>\n",
              "      <th>75</th>\n",
              "      <th>76</th>\n",
              "      <th>77</th>\n",
              "      <th>78</th>\n",
              "      <th>79</th>\n",
              "      <th>80</th>\n",
              "      <th>81</th>\n",
              "      <th>82</th>\n",
              "      <th>83</th>\n",
              "      <th>84</th>\n",
              "      <th>85</th>\n",
              "      <th>86</th>\n",
              "      <th>87</th>\n",
              "      <th>88</th>\n",
              "      <th>89</th>\n",
              "      <th>90</th>\n",
              "      <th>91</th>\n",
              "      <th>92</th>\n",
              "      <th>93</th>\n",
              "      <th>94</th>\n",
              "      <th>95</th>\n",
              "      <th>96</th>\n",
              "      <th>97</th>\n",
              "      <th>98</th>\n",
              "      <th>99</th>\n",
              "    </tr>\n",
              "  </thead>\n",
              "  <tbody>\n",
              "    <tr>\n",
              "      <th>0</th>\n",
              "      <td>-2.220446e-16</td>\n",
              "      <td>8.021136e-01</td>\n",
              "      <td>7.681585e-01</td>\n",
              "      <td>7.597603e-01</td>\n",
              "      <td>7.387999e-01</td>\n",
              "      <td>0.802449</td>\n",
              "      <td>0.582079</td>\n",
              "      <td>0.740708</td>\n",
              "      <td>0.723615</td>\n",
              "      <td>0.874826</td>\n",
              "      <td>0.768239</td>\n",
              "      <td>0.378002</td>\n",
              "      <td>0.672454</td>\n",
              "      <td>0.731835</td>\n",
              "      <td>0.747665</td>\n",
              "      <td>0.628333</td>\n",
              "      <td>0.688087</td>\n",
              "      <td>0.760209</td>\n",
              "      <td>0.755703</td>\n",
              "      <td>0.745250</td>\n",
              "      <td>0.706831</td>\n",
              "      <td>0.798631</td>\n",
              "      <td>0.742744</td>\n",
              "      <td>0.730983</td>\n",
              "      <td>0.769010</td>\n",
              "      <td>0.903517</td>\n",
              "      <td>0.871262</td>\n",
              "      <td>0.748237</td>\n",
              "      <td>0.753807</td>\n",
              "      <td>0.798283</td>\n",
              "      <td>0.708705</td>\n",
              "      <td>0.776235</td>\n",
              "      <td>0.786331</td>\n",
              "      <td>0.757598</td>\n",
              "      <td>0.561429</td>\n",
              "      <td>0.716262</td>\n",
              "      <td>0.598831</td>\n",
              "      <td>0.727063</td>\n",
              "      <td>0.778609</td>\n",
              "      <td>0.797550</td>\n",
              "      <td>...</td>\n",
              "      <td>0.684172</td>\n",
              "      <td>0.717119</td>\n",
              "      <td>0.772710</td>\n",
              "      <td>0.685469</td>\n",
              "      <td>0.809043</td>\n",
              "      <td>0.721584</td>\n",
              "      <td>0.697236</td>\n",
              "      <td>0.846510</td>\n",
              "      <td>0.740169</td>\n",
              "      <td>0.791514</td>\n",
              "      <td>0.649475</td>\n",
              "      <td>0.786756</td>\n",
              "      <td>0.744744</td>\n",
              "      <td>0.778309</td>\n",
              "      <td>0.683372</td>\n",
              "      <td>0.747864</td>\n",
              "      <td>0.643622</td>\n",
              "      <td>0.536713</td>\n",
              "      <td>0.640723</td>\n",
              "      <td>0.770397</td>\n",
              "      <td>0.807762</td>\n",
              "      <td>0.789267</td>\n",
              "      <td>0.826980</td>\n",
              "      <td>0.789437</td>\n",
              "      <td>0.780614</td>\n",
              "      <td>0.758576</td>\n",
              "      <td>0.641918</td>\n",
              "      <td>0.796569</td>\n",
              "      <td>0.801845</td>\n",
              "      <td>0.831187</td>\n",
              "      <td>0.635231</td>\n",
              "      <td>0.745473</td>\n",
              "      <td>0.731004</td>\n",
              "      <td>0.800920</td>\n",
              "      <td>0.666563</td>\n",
              "      <td>6.636784e-01</td>\n",
              "      <td>0.775623</td>\n",
              "      <td>6.409778e-01</td>\n",
              "      <td>6.725516e-01</td>\n",
              "      <td>8.240976e-01</td>\n",
              "    </tr>\n",
              "    <tr>\n",
              "      <th>1</th>\n",
              "      <td>8.021136e-01</td>\n",
              "      <td>-2.220446e-16</td>\n",
              "      <td>7.349759e-01</td>\n",
              "      <td>8.265509e-01</td>\n",
              "      <td>7.687451e-01</td>\n",
              "      <td>0.707093</td>\n",
              "      <td>0.736738</td>\n",
              "      <td>0.810637</td>\n",
              "      <td>0.778484</td>\n",
              "      <td>0.871861</td>\n",
              "      <td>0.784278</td>\n",
              "      <td>0.770666</td>\n",
              "      <td>0.723219</td>\n",
              "      <td>0.794170</td>\n",
              "      <td>0.762866</td>\n",
              "      <td>0.719558</td>\n",
              "      <td>0.803284</td>\n",
              "      <td>0.867222</td>\n",
              "      <td>0.805773</td>\n",
              "      <td>0.766027</td>\n",
              "      <td>0.805294</td>\n",
              "      <td>0.799823</td>\n",
              "      <td>0.668516</td>\n",
              "      <td>0.800916</td>\n",
              "      <td>0.574740</td>\n",
              "      <td>0.889108</td>\n",
              "      <td>0.891881</td>\n",
              "      <td>0.760903</td>\n",
              "      <td>0.817645</td>\n",
              "      <td>0.845537</td>\n",
              "      <td>0.839781</td>\n",
              "      <td>0.839432</td>\n",
              "      <td>0.792844</td>\n",
              "      <td>0.807641</td>\n",
              "      <td>0.788163</td>\n",
              "      <td>0.750633</td>\n",
              "      <td>0.750173</td>\n",
              "      <td>0.774768</td>\n",
              "      <td>0.767571</td>\n",
              "      <td>0.784722</td>\n",
              "      <td>...</td>\n",
              "      <td>0.811942</td>\n",
              "      <td>0.639154</td>\n",
              "      <td>0.852269</td>\n",
              "      <td>0.774705</td>\n",
              "      <td>0.826781</td>\n",
              "      <td>0.877370</td>\n",
              "      <td>0.836930</td>\n",
              "      <td>0.906180</td>\n",
              "      <td>0.814159</td>\n",
              "      <td>0.860152</td>\n",
              "      <td>0.798804</td>\n",
              "      <td>0.846948</td>\n",
              "      <td>0.776119</td>\n",
              "      <td>0.774566</td>\n",
              "      <td>0.858017</td>\n",
              "      <td>0.792739</td>\n",
              "      <td>0.716594</td>\n",
              "      <td>0.856975</td>\n",
              "      <td>0.806580</td>\n",
              "      <td>0.871373</td>\n",
              "      <td>0.706810</td>\n",
              "      <td>0.836000</td>\n",
              "      <td>0.876844</td>\n",
              "      <td>0.839320</td>\n",
              "      <td>0.803656</td>\n",
              "      <td>0.836338</td>\n",
              "      <td>0.771645</td>\n",
              "      <td>0.836946</td>\n",
              "      <td>0.763070</td>\n",
              "      <td>0.850687</td>\n",
              "      <td>0.723630</td>\n",
              "      <td>0.530189</td>\n",
              "      <td>0.799075</td>\n",
              "      <td>0.836117</td>\n",
              "      <td>0.814979</td>\n",
              "      <td>8.809728e-01</td>\n",
              "      <td>0.818525</td>\n",
              "      <td>7.346303e-01</td>\n",
              "      <td>7.720361e-01</td>\n",
              "      <td>8.926650e-01</td>\n",
              "    </tr>\n",
              "    <tr>\n",
              "      <th>2</th>\n",
              "      <td>7.681585e-01</td>\n",
              "      <td>7.349759e-01</td>\n",
              "      <td>-2.220446e-16</td>\n",
              "      <td>8.206237e-01</td>\n",
              "      <td>7.174168e-01</td>\n",
              "      <td>0.792735</td>\n",
              "      <td>0.610751</td>\n",
              "      <td>0.774168</td>\n",
              "      <td>0.784758</td>\n",
              "      <td>0.836374</td>\n",
              "      <td>0.642981</td>\n",
              "      <td>0.713188</td>\n",
              "      <td>0.765164</td>\n",
              "      <td>0.790805</td>\n",
              "      <td>0.795870</td>\n",
              "      <td>0.796628</td>\n",
              "      <td>0.763873</td>\n",
              "      <td>0.882420</td>\n",
              "      <td>0.829402</td>\n",
              "      <td>0.707317</td>\n",
              "      <td>0.806473</td>\n",
              "      <td>0.794071</td>\n",
              "      <td>0.816511</td>\n",
              "      <td>0.814417</td>\n",
              "      <td>0.620276</td>\n",
              "      <td>0.858890</td>\n",
              "      <td>0.850900</td>\n",
              "      <td>0.722606</td>\n",
              "      <td>0.804970</td>\n",
              "      <td>0.711959</td>\n",
              "      <td>0.858023</td>\n",
              "      <td>0.738092</td>\n",
              "      <td>0.711625</td>\n",
              "      <td>0.669209</td>\n",
              "      <td>0.738385</td>\n",
              "      <td>0.715752</td>\n",
              "      <td>0.713035</td>\n",
              "      <td>0.740933</td>\n",
              "      <td>0.659638</td>\n",
              "      <td>0.785096</td>\n",
              "      <td>...</td>\n",
              "      <td>0.846332</td>\n",
              "      <td>0.632010</td>\n",
              "      <td>0.717234</td>\n",
              "      <td>0.741953</td>\n",
              "      <td>0.892346</td>\n",
              "      <td>0.839921</td>\n",
              "      <td>0.867646</td>\n",
              "      <td>0.908852</td>\n",
              "      <td>0.755753</td>\n",
              "      <td>0.816753</td>\n",
              "      <td>0.835001</td>\n",
              "      <td>0.886232</td>\n",
              "      <td>0.750771</td>\n",
              "      <td>0.796420</td>\n",
              "      <td>0.811356</td>\n",
              "      <td>0.771560</td>\n",
              "      <td>0.786547</td>\n",
              "      <td>0.682675</td>\n",
              "      <td>0.612530</td>\n",
              "      <td>0.839993</td>\n",
              "      <td>0.796186</td>\n",
              "      <td>0.732019</td>\n",
              "      <td>0.800110</td>\n",
              "      <td>0.859954</td>\n",
              "      <td>0.856813</td>\n",
              "      <td>0.850554</td>\n",
              "      <td>0.657632</td>\n",
              "      <td>0.818035</td>\n",
              "      <td>0.750096</td>\n",
              "      <td>0.803300</td>\n",
              "      <td>0.801088</td>\n",
              "      <td>0.794360</td>\n",
              "      <td>0.779219</td>\n",
              "      <td>0.848421</td>\n",
              "      <td>0.807220</td>\n",
              "      <td>9.003314e-01</td>\n",
              "      <td>0.822437</td>\n",
              "      <td>7.277405e-01</td>\n",
              "      <td>7.551067e-01</td>\n",
              "      <td>8.588862e-01</td>\n",
              "    </tr>\n",
              "    <tr>\n",
              "      <th>3</th>\n",
              "      <td>7.597603e-01</td>\n",
              "      <td>8.265509e-01</td>\n",
              "      <td>8.206237e-01</td>\n",
              "      <td>-4.440892e-16</td>\n",
              "      <td>8.306278e-01</td>\n",
              "      <td>0.827877</td>\n",
              "      <td>0.720738</td>\n",
              "      <td>0.688320</td>\n",
              "      <td>0.877700</td>\n",
              "      <td>0.875658</td>\n",
              "      <td>0.866734</td>\n",
              "      <td>0.533025</td>\n",
              "      <td>0.812420</td>\n",
              "      <td>0.765893</td>\n",
              "      <td>0.807955</td>\n",
              "      <td>0.654607</td>\n",
              "      <td>0.841252</td>\n",
              "      <td>0.925135</td>\n",
              "      <td>0.751247</td>\n",
              "      <td>0.866497</td>\n",
              "      <td>0.790618</td>\n",
              "      <td>0.779452</td>\n",
              "      <td>0.870138</td>\n",
              "      <td>0.873378</td>\n",
              "      <td>0.874685</td>\n",
              "      <td>0.841873</td>\n",
              "      <td>0.898999</td>\n",
              "      <td>0.788346</td>\n",
              "      <td>0.778201</td>\n",
              "      <td>0.828642</td>\n",
              "      <td>0.879844</td>\n",
              "      <td>0.891309</td>\n",
              "      <td>0.733679</td>\n",
              "      <td>0.833580</td>\n",
              "      <td>0.781762</td>\n",
              "      <td>0.669325</td>\n",
              "      <td>0.697576</td>\n",
              "      <td>0.832344</td>\n",
              "      <td>0.814521</td>\n",
              "      <td>0.613863</td>\n",
              "      <td>...</td>\n",
              "      <td>0.799153</td>\n",
              "      <td>0.791184</td>\n",
              "      <td>0.794423</td>\n",
              "      <td>0.753857</td>\n",
              "      <td>0.864289</td>\n",
              "      <td>0.745284</td>\n",
              "      <td>0.824077</td>\n",
              "      <td>0.917308</td>\n",
              "      <td>0.740554</td>\n",
              "      <td>0.860816</td>\n",
              "      <td>0.628152</td>\n",
              "      <td>0.672770</td>\n",
              "      <td>0.801427</td>\n",
              "      <td>0.787583</td>\n",
              "      <td>0.719400</td>\n",
              "      <td>0.727254</td>\n",
              "      <td>0.789663</td>\n",
              "      <td>0.785805</td>\n",
              "      <td>0.849103</td>\n",
              "      <td>0.777157</td>\n",
              "      <td>0.799519</td>\n",
              "      <td>0.862277</td>\n",
              "      <td>0.821681</td>\n",
              "      <td>0.806230</td>\n",
              "      <td>0.766449</td>\n",
              "      <td>0.796170</td>\n",
              "      <td>0.722565</td>\n",
              "      <td>0.817577</td>\n",
              "      <td>0.757962</td>\n",
              "      <td>0.903388</td>\n",
              "      <td>0.821471</td>\n",
              "      <td>0.781831</td>\n",
              "      <td>0.748156</td>\n",
              "      <td>0.816654</td>\n",
              "      <td>0.823963</td>\n",
              "      <td>8.211040e-01</td>\n",
              "      <td>0.798238</td>\n",
              "      <td>7.701310e-01</td>\n",
              "      <td>7.766173e-01</td>\n",
              "      <td>8.795971e-01</td>\n",
              "    </tr>\n",
              "    <tr>\n",
              "      <th>4</th>\n",
              "      <td>7.387999e-01</td>\n",
              "      <td>7.687451e-01</td>\n",
              "      <td>7.174168e-01</td>\n",
              "      <td>8.306278e-01</td>\n",
              "      <td>-4.440892e-16</td>\n",
              "      <td>0.698846</td>\n",
              "      <td>0.666393</td>\n",
              "      <td>0.757632</td>\n",
              "      <td>0.742492</td>\n",
              "      <td>0.881100</td>\n",
              "      <td>0.729667</td>\n",
              "      <td>0.743539</td>\n",
              "      <td>0.715728</td>\n",
              "      <td>0.703636</td>\n",
              "      <td>0.757573</td>\n",
              "      <td>0.753404</td>\n",
              "      <td>0.792825</td>\n",
              "      <td>0.807961</td>\n",
              "      <td>0.656066</td>\n",
              "      <td>0.728572</td>\n",
              "      <td>0.718499</td>\n",
              "      <td>0.801556</td>\n",
              "      <td>0.764232</td>\n",
              "      <td>0.757097</td>\n",
              "      <td>0.708589</td>\n",
              "      <td>0.806535</td>\n",
              "      <td>0.893287</td>\n",
              "      <td>0.697854</td>\n",
              "      <td>0.833652</td>\n",
              "      <td>0.701568</td>\n",
              "      <td>0.793448</td>\n",
              "      <td>0.743450</td>\n",
              "      <td>0.770310</td>\n",
              "      <td>0.776652</td>\n",
              "      <td>0.694708</td>\n",
              "      <td>0.603854</td>\n",
              "      <td>0.688114</td>\n",
              "      <td>0.794845</td>\n",
              "      <td>0.685760</td>\n",
              "      <td>0.814899</td>\n",
              "      <td>...</td>\n",
              "      <td>0.789087</td>\n",
              "      <td>0.641843</td>\n",
              "      <td>0.786006</td>\n",
              "      <td>0.704594</td>\n",
              "      <td>0.880066</td>\n",
              "      <td>0.838839</td>\n",
              "      <td>0.814082</td>\n",
              "      <td>0.908184</td>\n",
              "      <td>0.849763</td>\n",
              "      <td>0.858673</td>\n",
              "      <td>0.785126</td>\n",
              "      <td>0.806783</td>\n",
              "      <td>0.761542</td>\n",
              "      <td>0.718420</td>\n",
              "      <td>0.800699</td>\n",
              "      <td>0.764899</td>\n",
              "      <td>0.733276</td>\n",
              "      <td>0.770865</td>\n",
              "      <td>0.791594</td>\n",
              "      <td>0.801093</td>\n",
              "      <td>0.872301</td>\n",
              "      <td>0.769414</td>\n",
              "      <td>0.888100</td>\n",
              "      <td>0.712399</td>\n",
              "      <td>0.752100</td>\n",
              "      <td>0.834545</td>\n",
              "      <td>0.719734</td>\n",
              "      <td>0.814195</td>\n",
              "      <td>0.689863</td>\n",
              "      <td>0.843818</td>\n",
              "      <td>0.674682</td>\n",
              "      <td>0.784818</td>\n",
              "      <td>0.738854</td>\n",
              "      <td>0.823302</td>\n",
              "      <td>0.619893</td>\n",
              "      <td>7.825573e-01</td>\n",
              "      <td>0.769614</td>\n",
              "      <td>6.099248e-01</td>\n",
              "      <td>6.378199e-01</td>\n",
              "      <td>8.052351e-01</td>\n",
              "    </tr>\n",
              "    <tr>\n",
              "      <th>...</th>\n",
              "      <td>...</td>\n",
              "      <td>...</td>\n",
              "      <td>...</td>\n",
              "      <td>...</td>\n",
              "      <td>...</td>\n",
              "      <td>...</td>\n",
              "      <td>...</td>\n",
              "      <td>...</td>\n",
              "      <td>...</td>\n",
              "      <td>...</td>\n",
              "      <td>...</td>\n",
              "      <td>...</td>\n",
              "      <td>...</td>\n",
              "      <td>...</td>\n",
              "      <td>...</td>\n",
              "      <td>...</td>\n",
              "      <td>...</td>\n",
              "      <td>...</td>\n",
              "      <td>...</td>\n",
              "      <td>...</td>\n",
              "      <td>...</td>\n",
              "      <td>...</td>\n",
              "      <td>...</td>\n",
              "      <td>...</td>\n",
              "      <td>...</td>\n",
              "      <td>...</td>\n",
              "      <td>...</td>\n",
              "      <td>...</td>\n",
              "      <td>...</td>\n",
              "      <td>...</td>\n",
              "      <td>...</td>\n",
              "      <td>...</td>\n",
              "      <td>...</td>\n",
              "      <td>...</td>\n",
              "      <td>...</td>\n",
              "      <td>...</td>\n",
              "      <td>...</td>\n",
              "      <td>...</td>\n",
              "      <td>...</td>\n",
              "      <td>...</td>\n",
              "      <td>...</td>\n",
              "      <td>...</td>\n",
              "      <td>...</td>\n",
              "      <td>...</td>\n",
              "      <td>...</td>\n",
              "      <td>...</td>\n",
              "      <td>...</td>\n",
              "      <td>...</td>\n",
              "      <td>...</td>\n",
              "      <td>...</td>\n",
              "      <td>...</td>\n",
              "      <td>...</td>\n",
              "      <td>...</td>\n",
              "      <td>...</td>\n",
              "      <td>...</td>\n",
              "      <td>...</td>\n",
              "      <td>...</td>\n",
              "      <td>...</td>\n",
              "      <td>...</td>\n",
              "      <td>...</td>\n",
              "      <td>...</td>\n",
              "      <td>...</td>\n",
              "      <td>...</td>\n",
              "      <td>...</td>\n",
              "      <td>...</td>\n",
              "      <td>...</td>\n",
              "      <td>...</td>\n",
              "      <td>...</td>\n",
              "      <td>...</td>\n",
              "      <td>...</td>\n",
              "      <td>...</td>\n",
              "      <td>...</td>\n",
              "      <td>...</td>\n",
              "      <td>...</td>\n",
              "      <td>...</td>\n",
              "      <td>...</td>\n",
              "      <td>...</td>\n",
              "      <td>...</td>\n",
              "      <td>...</td>\n",
              "      <td>...</td>\n",
              "      <td>...</td>\n",
              "    </tr>\n",
              "    <tr>\n",
              "      <th>95</th>\n",
              "      <td>6.636784e-01</td>\n",
              "      <td>8.809728e-01</td>\n",
              "      <td>9.003314e-01</td>\n",
              "      <td>8.211040e-01</td>\n",
              "      <td>7.825573e-01</td>\n",
              "      <td>0.868056</td>\n",
              "      <td>0.770891</td>\n",
              "      <td>0.806460</td>\n",
              "      <td>0.886771</td>\n",
              "      <td>0.876705</td>\n",
              "      <td>0.896212</td>\n",
              "      <td>0.701847</td>\n",
              "      <td>0.669569</td>\n",
              "      <td>0.724896</td>\n",
              "      <td>0.773434</td>\n",
              "      <td>0.739991</td>\n",
              "      <td>0.780154</td>\n",
              "      <td>0.888143</td>\n",
              "      <td>0.719155</td>\n",
              "      <td>0.805817</td>\n",
              "      <td>0.754470</td>\n",
              "      <td>0.870474</td>\n",
              "      <td>0.829457</td>\n",
              "      <td>0.785600</td>\n",
              "      <td>0.880103</td>\n",
              "      <td>0.873825</td>\n",
              "      <td>0.895742</td>\n",
              "      <td>0.806207</td>\n",
              "      <td>0.824602</td>\n",
              "      <td>0.927097</td>\n",
              "      <td>0.812422</td>\n",
              "      <td>0.900562</td>\n",
              "      <td>0.792129</td>\n",
              "      <td>0.903530</td>\n",
              "      <td>0.813478</td>\n",
              "      <td>0.801918</td>\n",
              "      <td>0.841267</td>\n",
              "      <td>0.902938</td>\n",
              "      <td>0.872299</td>\n",
              "      <td>0.796672</td>\n",
              "      <td>...</td>\n",
              "      <td>0.730278</td>\n",
              "      <td>0.814577</td>\n",
              "      <td>0.840524</td>\n",
              "      <td>0.640516</td>\n",
              "      <td>0.797011</td>\n",
              "      <td>0.878614</td>\n",
              "      <td>0.723019</td>\n",
              "      <td>0.931090</td>\n",
              "      <td>0.848248</td>\n",
              "      <td>0.869572</td>\n",
              "      <td>0.683039</td>\n",
              "      <td>0.911378</td>\n",
              "      <td>0.851282</td>\n",
              "      <td>0.776688</td>\n",
              "      <td>0.761547</td>\n",
              "      <td>0.846892</td>\n",
              "      <td>0.647452</td>\n",
              "      <td>0.768708</td>\n",
              "      <td>0.844533</td>\n",
              "      <td>0.873630</td>\n",
              "      <td>0.867113</td>\n",
              "      <td>0.782498</td>\n",
              "      <td>0.900855</td>\n",
              "      <td>0.877762</td>\n",
              "      <td>0.628799</td>\n",
              "      <td>0.732613</td>\n",
              "      <td>0.724475</td>\n",
              "      <td>0.882536</td>\n",
              "      <td>0.861368</td>\n",
              "      <td>0.948075</td>\n",
              "      <td>0.664533</td>\n",
              "      <td>0.664640</td>\n",
              "      <td>0.767039</td>\n",
              "      <td>0.873087</td>\n",
              "      <td>0.679767</td>\n",
              "      <td>-2.220446e-16</td>\n",
              "      <td>0.721225</td>\n",
              "      <td>6.474954e-01</td>\n",
              "      <td>6.232019e-01</td>\n",
              "      <td>8.683055e-01</td>\n",
              "    </tr>\n",
              "    <tr>\n",
              "      <th>96</th>\n",
              "      <td>7.756231e-01</td>\n",
              "      <td>8.185252e-01</td>\n",
              "      <td>8.224366e-01</td>\n",
              "      <td>7.982378e-01</td>\n",
              "      <td>7.696144e-01</td>\n",
              "      <td>0.722465</td>\n",
              "      <td>0.743193</td>\n",
              "      <td>0.769875</td>\n",
              "      <td>0.769977</td>\n",
              "      <td>0.869817</td>\n",
              "      <td>0.866684</td>\n",
              "      <td>0.714288</td>\n",
              "      <td>0.576476</td>\n",
              "      <td>0.773665</td>\n",
              "      <td>0.661526</td>\n",
              "      <td>0.746790</td>\n",
              "      <td>0.770281</td>\n",
              "      <td>0.933261</td>\n",
              "      <td>0.705073</td>\n",
              "      <td>0.815463</td>\n",
              "      <td>0.723824</td>\n",
              "      <td>0.796883</td>\n",
              "      <td>0.769723</td>\n",
              "      <td>0.800246</td>\n",
              "      <td>0.857973</td>\n",
              "      <td>0.903360</td>\n",
              "      <td>0.884418</td>\n",
              "      <td>0.732704</td>\n",
              "      <td>0.781936</td>\n",
              "      <td>0.889077</td>\n",
              "      <td>0.889018</td>\n",
              "      <td>0.880730</td>\n",
              "      <td>0.799470</td>\n",
              "      <td>0.781088</td>\n",
              "      <td>0.838445</td>\n",
              "      <td>0.800816</td>\n",
              "      <td>0.780108</td>\n",
              "      <td>0.780556</td>\n",
              "      <td>0.742451</td>\n",
              "      <td>0.689308</td>\n",
              "      <td>...</td>\n",
              "      <td>0.744073</td>\n",
              "      <td>0.768110</td>\n",
              "      <td>0.829380</td>\n",
              "      <td>0.648365</td>\n",
              "      <td>0.852655</td>\n",
              "      <td>0.880062</td>\n",
              "      <td>0.824028</td>\n",
              "      <td>0.910788</td>\n",
              "      <td>0.760782</td>\n",
              "      <td>0.892353</td>\n",
              "      <td>0.842582</td>\n",
              "      <td>0.790660</td>\n",
              "      <td>0.829429</td>\n",
              "      <td>0.757829</td>\n",
              "      <td>0.840574</td>\n",
              "      <td>0.724620</td>\n",
              "      <td>0.625070</td>\n",
              "      <td>0.853327</td>\n",
              "      <td>0.839143</td>\n",
              "      <td>0.855964</td>\n",
              "      <td>0.841608</td>\n",
              "      <td>0.736603</td>\n",
              "      <td>0.870152</td>\n",
              "      <td>0.806463</td>\n",
              "      <td>0.723414</td>\n",
              "      <td>0.772310</td>\n",
              "      <td>0.660919</td>\n",
              "      <td>0.812666</td>\n",
              "      <td>0.840648</td>\n",
              "      <td>0.925812</td>\n",
              "      <td>0.656268</td>\n",
              "      <td>0.659793</td>\n",
              "      <td>0.698620</td>\n",
              "      <td>0.775384</td>\n",
              "      <td>0.746985</td>\n",
              "      <td>7.212249e-01</td>\n",
              "      <td>0.000000</td>\n",
              "      <td>4.958472e-01</td>\n",
              "      <td>6.180021e-01</td>\n",
              "      <td>9.329418e-01</td>\n",
              "    </tr>\n",
              "    <tr>\n",
              "      <th>97</th>\n",
              "      <td>6.409778e-01</td>\n",
              "      <td>7.346303e-01</td>\n",
              "      <td>7.277405e-01</td>\n",
              "      <td>7.701310e-01</td>\n",
              "      <td>6.099248e-01</td>\n",
              "      <td>0.675581</td>\n",
              "      <td>0.610148</td>\n",
              "      <td>0.773409</td>\n",
              "      <td>0.708153</td>\n",
              "      <td>0.835542</td>\n",
              "      <td>0.752413</td>\n",
              "      <td>0.615480</td>\n",
              "      <td>0.531789</td>\n",
              "      <td>0.668194</td>\n",
              "      <td>0.572144</td>\n",
              "      <td>0.583951</td>\n",
              "      <td>0.706255</td>\n",
              "      <td>0.882424</td>\n",
              "      <td>0.592397</td>\n",
              "      <td>0.658414</td>\n",
              "      <td>0.636230</td>\n",
              "      <td>0.686228</td>\n",
              "      <td>0.655668</td>\n",
              "      <td>0.673645</td>\n",
              "      <td>0.703462</td>\n",
              "      <td>0.832037</td>\n",
              "      <td>0.869935</td>\n",
              "      <td>0.656694</td>\n",
              "      <td>0.638326</td>\n",
              "      <td>0.794601</td>\n",
              "      <td>0.799632</td>\n",
              "      <td>0.780452</td>\n",
              "      <td>0.644197</td>\n",
              "      <td>0.689630</td>\n",
              "      <td>0.669233</td>\n",
              "      <td>0.647845</td>\n",
              "      <td>0.653910</td>\n",
              "      <td>0.658044</td>\n",
              "      <td>0.678487</td>\n",
              "      <td>0.649602</td>\n",
              "      <td>...</td>\n",
              "      <td>0.656112</td>\n",
              "      <td>0.652397</td>\n",
              "      <td>0.704623</td>\n",
              "      <td>0.568716</td>\n",
              "      <td>0.854552</td>\n",
              "      <td>0.845024</td>\n",
              "      <td>0.771607</td>\n",
              "      <td>0.836924</td>\n",
              "      <td>0.727415</td>\n",
              "      <td>0.773352</td>\n",
              "      <td>0.737869</td>\n",
              "      <td>0.753838</td>\n",
              "      <td>0.728764</td>\n",
              "      <td>0.684350</td>\n",
              "      <td>0.750979</td>\n",
              "      <td>0.653308</td>\n",
              "      <td>0.530560</td>\n",
              "      <td>0.791174</td>\n",
              "      <td>0.786529</td>\n",
              "      <td>0.693862</td>\n",
              "      <td>0.766678</td>\n",
              "      <td>0.713410</td>\n",
              "      <td>0.828039</td>\n",
              "      <td>0.734192</td>\n",
              "      <td>0.699264</td>\n",
              "      <td>0.698894</td>\n",
              "      <td>0.638262</td>\n",
              "      <td>0.805106</td>\n",
              "      <td>0.738036</td>\n",
              "      <td>0.873311</td>\n",
              "      <td>0.444748</td>\n",
              "      <td>0.645802</td>\n",
              "      <td>0.662105</td>\n",
              "      <td>0.713876</td>\n",
              "      <td>0.535532</td>\n",
              "      <td>6.474954e-01</td>\n",
              "      <td>0.495847</td>\n",
              "      <td>-2.220446e-16</td>\n",
              "      <td>4.586558e-01</td>\n",
              "      <td>9.206278e-01</td>\n",
              "    </tr>\n",
              "    <tr>\n",
              "      <th>98</th>\n",
              "      <td>6.725516e-01</td>\n",
              "      <td>7.720361e-01</td>\n",
              "      <td>7.551067e-01</td>\n",
              "      <td>7.766173e-01</td>\n",
              "      <td>6.378199e-01</td>\n",
              "      <td>0.661244</td>\n",
              "      <td>0.634982</td>\n",
              "      <td>0.698160</td>\n",
              "      <td>0.671417</td>\n",
              "      <td>0.759232</td>\n",
              "      <td>0.746549</td>\n",
              "      <td>0.651760</td>\n",
              "      <td>0.419721</td>\n",
              "      <td>0.557431</td>\n",
              "      <td>0.565807</td>\n",
              "      <td>0.679409</td>\n",
              "      <td>0.663314</td>\n",
              "      <td>0.873023</td>\n",
              "      <td>0.676576</td>\n",
              "      <td>0.642197</td>\n",
              "      <td>0.609154</td>\n",
              "      <td>0.657642</td>\n",
              "      <td>0.611275</td>\n",
              "      <td>0.676908</td>\n",
              "      <td>0.737800</td>\n",
              "      <td>0.778568</td>\n",
              "      <td>0.749639</td>\n",
              "      <td>0.541755</td>\n",
              "      <td>0.709869</td>\n",
              "      <td>0.702075</td>\n",
              "      <td>0.826435</td>\n",
              "      <td>0.782932</td>\n",
              "      <td>0.677285</td>\n",
              "      <td>0.700913</td>\n",
              "      <td>0.707854</td>\n",
              "      <td>0.674947</td>\n",
              "      <td>0.663888</td>\n",
              "      <td>0.718847</td>\n",
              "      <td>0.651758</td>\n",
              "      <td>0.574424</td>\n",
              "      <td>...</td>\n",
              "      <td>0.647253</td>\n",
              "      <td>0.657680</td>\n",
              "      <td>0.719857</td>\n",
              "      <td>0.429831</td>\n",
              "      <td>0.829539</td>\n",
              "      <td>0.797914</td>\n",
              "      <td>0.679755</td>\n",
              "      <td>0.776930</td>\n",
              "      <td>0.706521</td>\n",
              "      <td>0.816853</td>\n",
              "      <td>0.678978</td>\n",
              "      <td>0.798934</td>\n",
              "      <td>0.710658</td>\n",
              "      <td>0.715037</td>\n",
              "      <td>0.802507</td>\n",
              "      <td>0.583993</td>\n",
              "      <td>0.384626</td>\n",
              "      <td>0.744068</td>\n",
              "      <td>0.790526</td>\n",
              "      <td>0.719158</td>\n",
              "      <td>0.792867</td>\n",
              "      <td>0.622708</td>\n",
              "      <td>0.837626</td>\n",
              "      <td>0.713269</td>\n",
              "      <td>0.605559</td>\n",
              "      <td>0.617812</td>\n",
              "      <td>0.542762</td>\n",
              "      <td>0.739036</td>\n",
              "      <td>0.716206</td>\n",
              "      <td>0.863595</td>\n",
              "      <td>0.542470</td>\n",
              "      <td>0.620199</td>\n",
              "      <td>0.659759</td>\n",
              "      <td>0.729883</td>\n",
              "      <td>0.583970</td>\n",
              "      <td>6.232019e-01</td>\n",
              "      <td>0.618002</td>\n",
              "      <td>4.586558e-01</td>\n",
              "      <td>-6.661338e-16</td>\n",
              "      <td>8.719204e-01</td>\n",
              "    </tr>\n",
              "    <tr>\n",
              "      <th>99</th>\n",
              "      <td>8.240976e-01</td>\n",
              "      <td>8.926650e-01</td>\n",
              "      <td>8.588862e-01</td>\n",
              "      <td>8.795971e-01</td>\n",
              "      <td>8.052351e-01</td>\n",
              "      <td>0.923578</td>\n",
              "      <td>0.778192</td>\n",
              "      <td>0.822389</td>\n",
              "      <td>0.847008</td>\n",
              "      <td>0.942614</td>\n",
              "      <td>0.857308</td>\n",
              "      <td>0.896635</td>\n",
              "      <td>0.879206</td>\n",
              "      <td>0.852959</td>\n",
              "      <td>0.912289</td>\n",
              "      <td>0.905815</td>\n",
              "      <td>0.804488</td>\n",
              "      <td>0.876492</td>\n",
              "      <td>0.833244</td>\n",
              "      <td>0.928734</td>\n",
              "      <td>0.842380</td>\n",
              "      <td>0.889449</td>\n",
              "      <td>0.934943</td>\n",
              "      <td>0.905780</td>\n",
              "      <td>0.909346</td>\n",
              "      <td>0.797857</td>\n",
              "      <td>0.854783</td>\n",
              "      <td>0.799443</td>\n",
              "      <td>0.913785</td>\n",
              "      <td>0.913152</td>\n",
              "      <td>0.738547</td>\n",
              "      <td>0.910739</td>\n",
              "      <td>0.800158</td>\n",
              "      <td>0.896514</td>\n",
              "      <td>0.923758</td>\n",
              "      <td>0.891370</td>\n",
              "      <td>0.888703</td>\n",
              "      <td>0.931804</td>\n",
              "      <td>0.916445</td>\n",
              "      <td>0.907873</td>\n",
              "      <td>...</td>\n",
              "      <td>0.784975</td>\n",
              "      <td>0.818049</td>\n",
              "      <td>0.811521</td>\n",
              "      <td>0.880234</td>\n",
              "      <td>0.894693</td>\n",
              "      <td>0.787792</td>\n",
              "      <td>0.915178</td>\n",
              "      <td>0.838944</td>\n",
              "      <td>0.848870</td>\n",
              "      <td>0.977757</td>\n",
              "      <td>0.900511</td>\n",
              "      <td>0.886209</td>\n",
              "      <td>0.850030</td>\n",
              "      <td>0.901348</td>\n",
              "      <td>0.880789</td>\n",
              "      <td>0.862404</td>\n",
              "      <td>0.911768</td>\n",
              "      <td>0.766684</td>\n",
              "      <td>0.906941</td>\n",
              "      <td>0.964808</td>\n",
              "      <td>0.930747</td>\n",
              "      <td>0.893455</td>\n",
              "      <td>0.920447</td>\n",
              "      <td>0.680643</td>\n",
              "      <td>0.861955</td>\n",
              "      <td>0.892122</td>\n",
              "      <td>0.828589</td>\n",
              "      <td>0.892848</td>\n",
              "      <td>0.940630</td>\n",
              "      <td>0.985506</td>\n",
              "      <td>0.900849</td>\n",
              "      <td>0.857774</td>\n",
              "      <td>0.907311</td>\n",
              "      <td>0.850279</td>\n",
              "      <td>0.897393</td>\n",
              "      <td>8.683055e-01</td>\n",
              "      <td>0.932942</td>\n",
              "      <td>9.206278e-01</td>\n",
              "      <td>8.719204e-01</td>\n",
              "      <td>-2.220446e-16</td>\n",
              "    </tr>\n",
              "  </tbody>\n",
              "</table>\n",
              "<p>100 rows × 100 columns</p>\n",
              "</div>"
            ],
            "text/plain": [
              "              0             1   ...            98            99\n",
              "0  -2.220446e-16  8.021136e-01  ...  6.725516e-01  8.240976e-01\n",
              "1   8.021136e-01 -2.220446e-16  ...  7.720361e-01  8.926650e-01\n",
              "2   7.681585e-01  7.349759e-01  ...  7.551067e-01  8.588862e-01\n",
              "3   7.597603e-01  8.265509e-01  ...  7.766173e-01  8.795971e-01\n",
              "4   7.387999e-01  7.687451e-01  ...  6.378199e-01  8.052351e-01\n",
              "..           ...           ...  ...           ...           ...\n",
              "95  6.636784e-01  8.809728e-01  ...  6.232019e-01  8.683055e-01\n",
              "96  7.756231e-01  8.185252e-01  ...  6.180021e-01  9.329418e-01\n",
              "97  6.409778e-01  7.346303e-01  ...  4.586558e-01  9.206278e-01\n",
              "98  6.725516e-01  7.720361e-01  ... -6.661338e-16  8.719204e-01\n",
              "99  8.240976e-01  8.926650e-01  ...  8.719204e-01 -2.220446e-16\n",
              "\n",
              "[100 rows x 100 columns]"
            ]
          },
          "metadata": {
            "tags": []
          },
          "execution_count": 22
        }
      ]
    },
    {
      "cell_type": "markdown",
      "metadata": {
        "id": "3FrTtRMPG6hR"
      },
      "source": [
        "# Clustering - Exploring Text Similarity"
      ]
    },
    {
      "cell_type": "markdown",
      "metadata": {
        "id": "oOWVQTOnHGuG"
      },
      "source": [
        "## Hierarchical Clustering - Dendrograms"
      ]
    },
    {
      "cell_type": "code",
      "metadata": {
        "id": "KXMtAeUGHNZo"
      },
      "source": [
        "## Importing relevant libraries:\n",
        "from scipy.cluster.hierarchy import linkage, dendrogram"
      ],
      "execution_count": 23,
      "outputs": []
    },
    {
      "cell_type": "code",
      "metadata": {
        "id": "gf9DPZZ0HR3n"
      },
      "source": [
        "## Create a mergings matrix\n",
        "mergings = linkage(similarity_distance, method = 'complete')"
      ],
      "execution_count": 24,
      "outputs": []
    },
    {
      "cell_type": "code",
      "metadata": {
        "colab": {
          "base_uri": "https://localhost:8080/",
          "height": 629
        },
        "id": "G-x8PeLHHWie",
        "outputId": "dec62457-3d77-4ec3-84ea-95f1f2a4e3a5"
      },
      "source": [
        "## Creating the dendrogram\n",
        "dendrogram_plot = dendrogram(mergings,\n",
        "                             labels=[x for x in movies_df['title']],\n",
        "                             leaf_rotation=90,\n",
        "                             leaf_font_size=16)\n",
        "## Plot dendrogram:\n",
        "fig = plt.gcf()\n",
        "fig.set_size_inches(108,21)\n",
        "plt.show()"
      ],
      "execution_count": 25,
      "outputs": [
        {
          "output_type": "display_data",
          "data": {
            "image/png": "[encoded data removed]",
            "text/plain": [
              "<Figure size 7776x1512 with 1 Axes>"
            ]
          },
          "metadata": {
            "tags": [],
            "needs_background": "light"
          }
        }
      ]
    },
    {
      "cell_type": "markdown",
      "metadata": {
        "id": "w6JxcVeTILVY"
      },
      "source": [
        "## K-means Clustering"
      ]
    },
    {
      "cell_type": "code",
      "metadata": {
        "id": "fUzcDeoqIWCp"
      },
      "source": [
        "## Importing the relevant libraries:\n",
        "from sklearn.cluster import KMeans"
      ],
      "execution_count": 26,
      "outputs": []
    },
    {
      "cell_type": "code",
      "metadata": {
        "id": "ZkNVfAieIYgI"
      },
      "source": [
        "## Instancing a KMeans with a default of 5 clusters:\n",
        "km = KMeans(n_clusters=5)"
      ],
      "execution_count": 27,
      "outputs": []
    },
    {
      "cell_type": "code",
      "metadata": {
        "colab": {
          "base_uri": "https://localhost:8080/"
        },
        "id": "aPgw97hnIZHI",
        "outputId": "62dafa07-7309-4154-a0db-18af3b2ce13c"
      },
      "source": [
        "## Fitting the K-Means with the tf-idf matrix:\n",
        "km.fit(tfidf_matrix)\n",
        "\n",
        "## Creating clusters:\n",
        "clusters = km.labels_.tolist()\n",
        "clusters"
      ],
      "execution_count": 28,
      "outputs": [
        {
          "output_type": "execute_result",
          "data": {
            "text/plain": [
              "[2,\n",
              " 2,\n",
              " 2,\n",
              " 4,\n",
              " 0,\n",
              " 3,\n",
              " 3,\n",
              " 4,\n",
              " 0,\n",
              " 4,\n",
              " 3,\n",
              " 2,\n",
              " 0,\n",
              " 4,\n",
              " 0,\n",
              " 0,\n",
              " 0,\n",
              " 4,\n",
              " 0,\n",
              " 3,\n",
              " 0,\n",
              " 0,\n",
              " 2,\n",
              " 0,\n",
              " 3,\n",
              " 4,\n",
              " 1,\n",
              " 0,\n",
              " 0,\n",
              " 3,\n",
              " 4,\n",
              " 3,\n",
              " 0,\n",
              " 3,\n",
              " 3,\n",
              " 3,\n",
              " 3,\n",
              " 0,\n",
              " 3,\n",
              " 0,\n",
              " 2,\n",
              " 1,\n",
              " 0,\n",
              " 1,\n",
              " 4,\n",
              " 0,\n",
              " 2,\n",
              " 2,\n",
              " 3,\n",
              " 0,\n",
              " 3,\n",
              " 4,\n",
              " 3,\n",
              " 3,\n",
              " 0,\n",
              " 3,\n",
              " 2,\n",
              " 3,\n",
              " 2,\n",
              " 2,\n",
              " 4,\n",
              " 3,\n",
              " 3,\n",
              " 0,\n",
              " 2,\n",
              " 1,\n",
              " 4,\n",
              " 1,\n",
              " 4,\n",
              " 4,\n",
              " 2,\n",
              " 4,\n",
              " 2,\n",
              " 4,\n",
              " 2,\n",
              " 1,\n",
              " 0,\n",
              " 2,\n",
              " 2,\n",
              " 0,\n",
              " 2,\n",
              " 0,\n",
              " 4,\n",
              " 4,\n",
              " 4,\n",
              " 0,\n",
              " 0,\n",
              " 4,\n",
              " 3,\n",
              " 3,\n",
              " 0,\n",
              " 2,\n",
              " 0,\n",
              " 4,\n",
              " 0,\n",
              " 0,\n",
              " 0,\n",
              " 0,\n",
              " 0,\n",
              " 4]"
            ]
          },
          "metadata": {
            "tags": []
          },
          "execution_count": 28
        }
      ]
    },
    {
      "cell_type": "code",
      "metadata": {
        "colab": {
          "base_uri": "https://localhost:8080/",
          "height": 419
        },
        "id": "DTZwWwjeIf2V",
        "outputId": "6f28a3fd-8cee-4d34-c897-06a9cdc3017a"
      },
      "source": [
        "## Create a column cluster in the original dataset:\n",
        "movies_df['cluster'] = clusters\n",
        "\n",
        "movies_df"
      ],
      "execution_count": 29,
      "outputs": [
        {
          "output_type": "execute_result",
          "data": {
            "text/html": [
              "<div>\n",
              "<style scoped>\n",
              "    .dataframe tbody tr th:only-of-type {\n",
              "        vertical-align: middle;\n",
              "    }\n",
              "\n",
              "    .dataframe tbody tr th {\n",
              "        vertical-align: top;\n",
              "    }\n",
              "\n",
              "    .dataframe thead th {\n",
              "        text-align: right;\n",
              "    }\n",
              "</style>\n",
              "<table border=\"1\" class=\"dataframe\">\n",
              "  <thead>\n",
              "    <tr style=\"text-align: right;\">\n",
              "      <th></th>\n",
              "      <th>rank</th>\n",
              "      <th>title</th>\n",
              "      <th>genre</th>\n",
              "      <th>wiki_plot</th>\n",
              "      <th>imdb_plot</th>\n",
              "      <th>plot</th>\n",
              "      <th>cluster</th>\n",
              "    </tr>\n",
              "  </thead>\n",
              "  <tbody>\n",
              "    <tr>\n",
              "      <th>0</th>\n",
              "      <td>0</td>\n",
              "      <td>The Godfather</td>\n",
              "      <td>[u' Crime', u' Drama']</td>\n",
              "      <td>On the day of his only daughter's wedding, Vit...</td>\n",
              "      <td>In late summer 1945, guests are gathered for t...</td>\n",
              "      <td>On the day of his only daughter's wedding, Vit...</td>\n",
              "      <td>2</td>\n",
              "    </tr>\n",
              "    <tr>\n",
              "      <th>1</th>\n",
              "      <td>1</td>\n",
              "      <td>The Shawshank Redemption</td>\n",
              "      <td>[u' Crime', u' Drama']</td>\n",
              "      <td>In 1947, banker Andy Dufresne is convicted of ...</td>\n",
              "      <td>In 1947, Andy Dufresne (Tim Robbins), a banker...</td>\n",
              "      <td>In 1947, banker Andy Dufresne is convicted of ...</td>\n",
              "      <td>2</td>\n",
              "    </tr>\n",
              "    <tr>\n",
              "      <th>2</th>\n",
              "      <td>2</td>\n",
              "      <td>Schindler's List</td>\n",
              "      <td>[u' Biography', u' Drama', u' History']</td>\n",
              "      <td>In 1939, the Germans move Polish Jews into the...</td>\n",
              "      <td>The relocation of Polish Jews from surrounding...</td>\n",
              "      <td>In 1939, the Germans move Polish Jews into the...</td>\n",
              "      <td>2</td>\n",
              "    </tr>\n",
              "    <tr>\n",
              "      <th>3</th>\n",
              "      <td>3</td>\n",
              "      <td>Raging Bull</td>\n",
              "      <td>[u' Biography', u' Drama', u' Sport']</td>\n",
              "      <td>In a brief scene in 1964, an aging, overweight...</td>\n",
              "      <td>The film opens in 1964, where an older and fat...</td>\n",
              "      <td>In a brief scene in 1964, an aging, overweight...</td>\n",
              "      <td>4</td>\n",
              "    </tr>\n",
              "    <tr>\n",
              "      <th>4</th>\n",
              "      <td>4</td>\n",
              "      <td>Casablanca</td>\n",
              "      <td>[u' Drama', u' Romance', u' War']</td>\n",
              "      <td>It is early December 1941. American expatriate...</td>\n",
              "      <td>In the early years of World War II, December 1...</td>\n",
              "      <td>It is early December 1941. American expatriate...</td>\n",
              "      <td>0</td>\n",
              "    </tr>\n",
              "    <tr>\n",
              "      <th>...</th>\n",
              "      <td>...</td>\n",
              "      <td>...</td>\n",
              "      <td>...</td>\n",
              "      <td>...</td>\n",
              "      <td>...</td>\n",
              "      <td>...</td>\n",
              "      <td>...</td>\n",
              "    </tr>\n",
              "    <tr>\n",
              "      <th>95</th>\n",
              "      <td>95</td>\n",
              "      <td>Rebel Without a Cause</td>\n",
              "      <td>[u' Drama']</td>\n",
              "      <td>\\n\\n\\n\\nJim Stark is in police custody.\\n\\n  \\...</td>\n",
              "      <td>Shortly after moving to Los Angeles with his p...</td>\n",
              "      <td>\\n\\n\\n\\nJim Stark is in police custody.\\n\\n  \\...</td>\n",
              "      <td>0</td>\n",
              "    </tr>\n",
              "    <tr>\n",
              "      <th>96</th>\n",
              "      <td>96</td>\n",
              "      <td>Rear Window</td>\n",
              "      <td>[u' Mystery', u' Thriller']</td>\n",
              "      <td>\\n\\n\\n\\nJames Stewart as L.B. Jefferies\\n\\n  \\...</td>\n",
              "      <td>L.B. \"Jeff\" Jeffries (James Stewart) recuperat...</td>\n",
              "      <td>\\n\\n\\n\\nJames Stewart as L.B. Jefferies\\n\\n  \\...</td>\n",
              "      <td>0</td>\n",
              "    </tr>\n",
              "    <tr>\n",
              "      <th>97</th>\n",
              "      <td>97</td>\n",
              "      <td>The Third Man</td>\n",
              "      <td>[u' Film-Noir', u' Mystery', u' Thriller']</td>\n",
              "      <td>\\n\\n\\n\\nSocial network mapping all major chara...</td>\n",
              "      <td>Sights of Vienna, Austria, flash across the sc...</td>\n",
              "      <td>\\n\\n\\n\\nSocial network mapping all major chara...</td>\n",
              "      <td>0</td>\n",
              "    </tr>\n",
              "    <tr>\n",
              "      <th>98</th>\n",
              "      <td>98</td>\n",
              "      <td>North by Northwest</td>\n",
              "      <td>[u' Mystery', u' Thriller']</td>\n",
              "      <td>Advertising executive Roger O. Thornhill is mi...</td>\n",
              "      <td>At the end of an ordinary work day, advertisin...</td>\n",
              "      <td>Advertising executive Roger O. Thornhill is mi...</td>\n",
              "      <td>0</td>\n",
              "    </tr>\n",
              "    <tr>\n",
              "      <th>99</th>\n",
              "      <td>99</td>\n",
              "      <td>Yankee Doodle Dandy</td>\n",
              "      <td>[u' Biography', u' Drama', u' Musical']</td>\n",
              "      <td>\\n  In the early days of World War II, Cohan ...</td>\n",
              "      <td>NaN</td>\n",
              "      <td>\\n  In the early days of World War II, Cohan ...</td>\n",
              "      <td>4</td>\n",
              "    </tr>\n",
              "  </tbody>\n",
              "</table>\n",
              "<p>100 rows × 7 columns</p>\n",
              "</div>"
            ],
            "text/plain": [
              "    rank  ... cluster\n",
              "0      0  ...       2\n",
              "1      1  ...       2\n",
              "2      2  ...       2\n",
              "3      3  ...       4\n",
              "4      4  ...       0\n",
              "..   ...  ...     ...\n",
              "95    95  ...       0\n",
              "96    96  ...       0\n",
              "97    97  ...       0\n",
              "98    98  ...       0\n",
              "99    99  ...       4\n",
              "\n",
              "[100 rows x 7 columns]"
            ]
          },
          "metadata": {
            "tags": []
          },
          "execution_count": 29
        }
      ]
    },
    {
      "cell_type": "code",
      "metadata": {
        "colab": {
          "base_uri": "https://localhost:8080/"
        },
        "id": "zgMropNeIjWH",
        "outputId": "ce84543e-68bb-4490-9e2b-563839e00c44"
      },
      "source": [
        "## Displaying the number of movies per cluster:\n",
        "movies_df['cluster'].value_counts()"
      ],
      "execution_count": 30,
      "outputs": [
        {
          "output_type": "execute_result",
          "data": {
            "text/plain": [
              "0    32\n",
              "3    22\n",
              "4    21\n",
              "2    19\n",
              "1     6\n",
              "Name: cluster, dtype: int64"
            ]
          },
          "metadata": {
            "tags": []
          },
          "execution_count": 30
        }
      ]
    },
    {
      "cell_type": "markdown",
      "metadata": {
        "id": "BH_9IXF9VzNm"
      },
      "source": [
        "## K-means clustering analysis"
      ]
    },
    {
      "cell_type": "markdown",
      "metadata": {
        "id": "S1V4JejeVt32"
      },
      "source": [
        "### Cluster 0"
      ]
    },
    {
      "cell_type": "code",
      "metadata": {
        "id": "OgMwAAAgesp3"
      },
      "source": [
        "## Seeing the clusters:\n",
        "movies_cluster_0 = movies_df[movies_df['cluster']==0]"
      ],
      "execution_count": 31,
      "outputs": []
    },
    {
      "cell_type": "code",
      "metadata": {
        "id": "KKcW-AALTuf6"
      },
      "source": [
        "## Analysing the cluster genre:\n",
        "genre_string = ''.join(movies_cluster_0['genre'])\n",
        "genre_string = genre_string.replace(\"u\", \" \")"
      ],
      "execution_count": 53,
      "outputs": []
    },
    {
      "cell_type": "code",
      "metadata": {
        "colab": {
          "base_uri": "https://localhost:8080/",
          "height": 359
        },
        "id": "zrAqrD5UVKqw",
        "outputId": "3040a503-d4e4-4f89-82ae-68275511da54"
      },
      "source": [
        "## But first we need to tokenize the whole string and then stemm it - using the tokenize_and_stem function:\n",
        "StemmedFullGenre = tokenize_and_stem(genre_string)\n",
        "\n",
        "## Calculate the frequency distribution of the words:\n",
        "fdist_genre = FreqDist(StemmedFullGenre)\n",
        "\n",
        "## Create a Dataframe with the content:\n",
        "most_common_genre = pd.DataFrame(fdist_genre.most_common(n=10), columns=['Word', 'Frequency'])\n",
        "most_common_genre"
      ],
      "execution_count": 54,
      "outputs": [
        {
          "output_type": "execute_result",
          "data": {
            "text/html": [
              "<div>\n",
              "<style scoped>\n",
              "    .dataframe tbody tr th:only-of-type {\n",
              "        vertical-align: middle;\n",
              "    }\n",
              "\n",
              "    .dataframe tbody tr th {\n",
              "        vertical-align: top;\n",
              "    }\n",
              "\n",
              "    .dataframe thead th {\n",
              "        text-align: right;\n",
              "    }\n",
              "</style>\n",
              "<table border=\"1\" class=\"dataframe\">\n",
              "  <thead>\n",
              "    <tr style=\"text-align: right;\">\n",
              "      <th></th>\n",
              "      <th>Word</th>\n",
              "      <th>Frequency</th>\n",
              "    </tr>\n",
              "  </thead>\n",
              "  <tbody>\n",
              "    <tr>\n",
              "      <th>0</th>\n",
              "      <td>drama</td>\n",
              "      <td>21</td>\n",
              "    </tr>\n",
              "    <tr>\n",
              "      <th>1</th>\n",
              "      <td>thriller</td>\n",
              "      <td>12</td>\n",
              "    </tr>\n",
              "    <tr>\n",
              "      <th>2</th>\n",
              "      <td>mysteri</td>\n",
              "      <td>8</td>\n",
              "    </tr>\n",
              "    <tr>\n",
              "      <th>3</th>\n",
              "      <td>romanc</td>\n",
              "      <td>7</td>\n",
              "    </tr>\n",
              "    <tr>\n",
              "      <th>4</th>\n",
              "      <td>crime</td>\n",
              "      <td>7</td>\n",
              "    </tr>\n",
              "    <tr>\n",
              "      <th>5</th>\n",
              "      <td>famili</td>\n",
              "      <td>3</td>\n",
              "    </tr>\n",
              "    <tr>\n",
              "      <th>6</th>\n",
              "      <td>m</td>\n",
              "      <td>3</td>\n",
              "    </tr>\n",
              "    <tr>\n",
              "      <th>7</th>\n",
              "      <td>sical</td>\n",
              "      <td>3</td>\n",
              "    </tr>\n",
              "    <tr>\n",
              "      <th>8</th>\n",
              "      <td>sci-fi</td>\n",
              "      <td>3</td>\n",
              "    </tr>\n",
              "    <tr>\n",
              "      <th>9</th>\n",
              "      <td>comedi</td>\n",
              "      <td>3</td>\n",
              "    </tr>\n",
              "  </tbody>\n",
              "</table>\n",
              "</div>"
            ],
            "text/plain": [
              "       Word  Frequency\n",
              "0     drama         21\n",
              "1  thriller         12\n",
              "2   mysteri          8\n",
              "3    romanc          7\n",
              "4     crime          7\n",
              "5    famili          3\n",
              "6         m          3\n",
              "7     sical          3\n",
              "8    sci-fi          3\n",
              "9    comedi          3"
            ]
          },
          "metadata": {
            "tags": []
          },
          "execution_count": 54
        }
      ]
    },
    {
      "cell_type": "code",
      "metadata": {
        "colab": {
          "base_uri": "https://localhost:8080/",
          "height": 551
        },
        "id": "9_906-oEXu1h",
        "outputId": "18eb1cc0-002d-4a62-f7b5-57c3fb83a6b6"
      },
      "source": [
        "## Creating a bar plot with the frequency of words:\n",
        "fig = plt.bar(most_common_genre.iloc[:,0], most_common_genre.iloc[:,1])\n",
        "\n",
        "## Adding labels and titles to the figure:\n",
        "plt.xlabel('Genre')\n",
        "plt.ylabel('Frequency')\n",
        "plt.rcParams['figure.figsize'] = (9,9)"
      ],
      "execution_count": 55,
      "outputs": [
        {
          "output_type": "display_data",
          "data": {
            "image/png": "[encoded data removed]",
            "text/plain": [
              "<Figure size 648x648 with 1 Axes>"
            ]
          },
          "metadata": {
            "tags": [],
            "needs_background": "light"
          }
        }
      ]
    },
    {
      "cell_type": "markdown",
      "metadata": {
        "id": "khWMXvj9YMfN"
      },
      "source": [
        "### Cluster 1"
      ]
    },
    {
      "cell_type": "code",
      "metadata": {
        "id": "U6zWiEwvZCIg"
      },
      "source": [
        "## Seeing the clusters:\n",
        "movies_cluster_1 = movies_df[movies_df['cluster']==1]"
      ],
      "execution_count": 56,
      "outputs": []
    },
    {
      "cell_type": "code",
      "metadata": {
        "id": "EQAc5V08Zbaa"
      },
      "source": [
        "## Analysing the cluster genre:\n",
        "genre_string = ''.join(movies_cluster_1['genre'])\n",
        "genre_string = genre_string.replace(\"u\", \" \")"
      ],
      "execution_count": 57,
      "outputs": []
    },
    {
      "cell_type": "code",
      "metadata": {
        "colab": {
          "base_uri": "https://localhost:8080/",
          "height": 328
        },
        "id": "-X_l0ZVzZjbt",
        "outputId": "19d130df-5dc5-4d0b-880a-72681a087e0e"
      },
      "source": [
        "## But first we need to tokenize the whole string and then stemm it - using the tokenize_and_stem function:\n",
        "StemmedFullGenre = tokenize_and_stem(genre_string)\n",
        "\n",
        "## Calculate the frequency distribution of the words:\n",
        "fdist_genre = FreqDist(StemmedFullGenre)\n",
        "\n",
        "## Create a Dataframe with the content:\n",
        "most_common_genre = pd.DataFrame(fdist_genre.most_common(n=10), columns=['Word', 'Frequency'])\n",
        "most_common_genre"
      ],
      "execution_count": 58,
      "outputs": [
        {
          "output_type": "execute_result",
          "data": {
            "text/html": [
              "<div>\n",
              "<style scoped>\n",
              "    .dataframe tbody tr th:only-of-type {\n",
              "        vertical-align: middle;\n",
              "    }\n",
              "\n",
              "    .dataframe tbody tr th {\n",
              "        vertical-align: top;\n",
              "    }\n",
              "\n",
              "    .dataframe thead th {\n",
              "        text-align: right;\n",
              "    }\n",
              "</style>\n",
              "<table border=\"1\" class=\"dataframe\">\n",
              "  <thead>\n",
              "    <tr style=\"text-align: right;\">\n",
              "      <th></th>\n",
              "      <th>Word</th>\n",
              "      <th>Frequency</th>\n",
              "    </tr>\n",
              "  </thead>\n",
              "  <tbody>\n",
              "    <tr>\n",
              "      <th>0</th>\n",
              "      <td>drama</td>\n",
              "      <td>4</td>\n",
              "    </tr>\n",
              "    <tr>\n",
              "      <th>1</th>\n",
              "      <td>romanc</td>\n",
              "      <td>4</td>\n",
              "    </tr>\n",
              "    <tr>\n",
              "      <th>2</th>\n",
              "      <td>comedi</td>\n",
              "      <td>2</td>\n",
              "    </tr>\n",
              "    <tr>\n",
              "      <th>3</th>\n",
              "      <td>famili</td>\n",
              "      <td>1</td>\n",
              "    </tr>\n",
              "    <tr>\n",
              "      <th>4</th>\n",
              "      <td>fantasi</td>\n",
              "      <td>1</td>\n",
              "    </tr>\n",
              "    <tr>\n",
              "      <th>5</th>\n",
              "      <td>m</td>\n",
              "      <td>1</td>\n",
              "    </tr>\n",
              "    <tr>\n",
              "      <th>6</th>\n",
              "      <td>sical</td>\n",
              "      <td>1</td>\n",
              "    </tr>\n",
              "    <tr>\n",
              "      <th>7</th>\n",
              "      <td>biographi</td>\n",
              "      <td>1</td>\n",
              "    </tr>\n",
              "    <tr>\n",
              "      <th>8</th>\n",
              "      <td>histori</td>\n",
              "      <td>1</td>\n",
              "    </tr>\n",
              "  </tbody>\n",
              "</table>\n",
              "</div>"
            ],
            "text/plain": [
              "        Word  Frequency\n",
              "0      drama          4\n",
              "1     romanc          4\n",
              "2     comedi          2\n",
              "3     famili          1\n",
              "4    fantasi          1\n",
              "5          m          1\n",
              "6      sical          1\n",
              "7  biographi          1\n",
              "8    histori          1"
            ]
          },
          "metadata": {
            "tags": []
          },
          "execution_count": 58
        }
      ]
    },
    {
      "cell_type": "code",
      "metadata": {
        "colab": {
          "base_uri": "https://localhost:8080/",
          "height": 551
        },
        "id": "ahx1KYpkZpwA",
        "outputId": "f2372f6b-afac-496b-859f-3d9b4dd04d94"
      },
      "source": [
        "## Creating a bar plot with the frequency of words:\n",
        "fig = plt.bar(most_common_genre.iloc[:,0], most_common_genre.iloc[:,1])\n",
        "\n",
        "## Adding labels and titles to the figure:\n",
        "plt.xlabel('Genre')\n",
        "plt.ylabel('Frequency')\n",
        "plt.rcParams['figure.figsize'] = (9,9)"
      ],
      "execution_count": 59,
      "outputs": [
        {
          "output_type": "display_data",
          "data": {
            "image/png": "[encoded data removed]",
            "text/plain": [
              "<Figure size 648x648 with 1 Axes>"
            ]
          },
          "metadata": {
            "tags": [],
            "needs_background": "light"
          }
        }
      ]
    },
    {
      "cell_type": "markdown",
      "metadata": {
        "id": "AQx6rEcVZxfV"
      },
      "source": [
        "### Cluster 2"
      ]
    },
    {
      "cell_type": "code",
      "metadata": {
        "id": "ztO6ifHlZ3Tg"
      },
      "source": [
        "## Seeing the clusters:\n",
        "movies_cluster_2 = movies_df[movies_df['cluster']==2]"
      ],
      "execution_count": 60,
      "outputs": []
    },
    {
      "cell_type": "code",
      "metadata": {
        "id": "EafljxPXZ-ZM"
      },
      "source": [
        "## Analysing the cluster genre:\n",
        "genre_string = ''.join(movies_cluster_2['genre'])\n",
        "genre_string = genre_string.replace(\"u\", \" \")"
      ],
      "execution_count": 61,
      "outputs": []
    },
    {
      "cell_type": "code",
      "metadata": {
        "colab": {
          "base_uri": "https://localhost:8080/",
          "height": 359
        },
        "id": "aryJ-6WjaLjB",
        "outputId": "cffe0e8b-64e4-4d0e-b845-38083f002c9e"
      },
      "source": [
        "## But first we need to tokenize the whole string and then stemm it - using the tokenize_and_stem function:\n",
        "StemmedFullGenre = tokenize_and_stem(genre_string)\n",
        "\n",
        "## Calculate the frequency distribution of the words:\n",
        "fdist_genre = FreqDist(StemmedFullGenre)\n",
        "\n",
        "## Create a Dataframe with the content:\n",
        "most_common_genre = pd.DataFrame(fdist_genre.most_common(n=10), columns=['Word', 'Frequency'])\n",
        "most_common_genre"
      ],
      "execution_count": 62,
      "outputs": [
        {
          "output_type": "execute_result",
          "data": {
            "text/html": [
              "<div>\n",
              "<style scoped>\n",
              "    .dataframe tbody tr th:only-of-type {\n",
              "        vertical-align: middle;\n",
              "    }\n",
              "\n",
              "    .dataframe tbody tr th {\n",
              "        vertical-align: top;\n",
              "    }\n",
              "\n",
              "    .dataframe thead th {\n",
              "        text-align: right;\n",
              "    }\n",
              "</style>\n",
              "<table border=\"1\" class=\"dataframe\">\n",
              "  <thead>\n",
              "    <tr style=\"text-align: right;\">\n",
              "      <th></th>\n",
              "      <th>Word</th>\n",
              "      <th>Frequency</th>\n",
              "    </tr>\n",
              "  </thead>\n",
              "  <tbody>\n",
              "    <tr>\n",
              "      <th>0</th>\n",
              "      <td>drama</td>\n",
              "      <td>18</td>\n",
              "    </tr>\n",
              "    <tr>\n",
              "      <th>1</th>\n",
              "      <td>crime</td>\n",
              "      <td>7</td>\n",
              "    </tr>\n",
              "    <tr>\n",
              "      <th>2</th>\n",
              "      <td>biographi</td>\n",
              "      <td>4</td>\n",
              "    </tr>\n",
              "    <tr>\n",
              "      <th>3</th>\n",
              "      <td>romanc</td>\n",
              "      <td>4</td>\n",
              "    </tr>\n",
              "    <tr>\n",
              "      <th>4</th>\n",
              "      <td>war</td>\n",
              "      <td>2</td>\n",
              "    </tr>\n",
              "    <tr>\n",
              "      <th>5</th>\n",
              "      <td>comedi</td>\n",
              "      <td>2</td>\n",
              "    </tr>\n",
              "    <tr>\n",
              "      <th>6</th>\n",
              "      <td>histori</td>\n",
              "      <td>1</td>\n",
              "    </tr>\n",
              "    <tr>\n",
              "      <th>7</th>\n",
              "      <td>thriller</td>\n",
              "      <td>1</td>\n",
              "    </tr>\n",
              "    <tr>\n",
              "      <th>8</th>\n",
              "      <td>advent</td>\n",
              "      <td>1</td>\n",
              "    </tr>\n",
              "    <tr>\n",
              "      <th>9</th>\n",
              "      <td>western</td>\n",
              "      <td>1</td>\n",
              "    </tr>\n",
              "  </tbody>\n",
              "</table>\n",
              "</div>"
            ],
            "text/plain": [
              "        Word  Frequency\n",
              "0      drama         18\n",
              "1      crime          7\n",
              "2  biographi          4\n",
              "3     romanc          4\n",
              "4        war          2\n",
              "5     comedi          2\n",
              "6    histori          1\n",
              "7   thriller          1\n",
              "8     advent          1\n",
              "9    western          1"
            ]
          },
          "metadata": {
            "tags": []
          },
          "execution_count": 62
        }
      ]
    },
    {
      "cell_type": "code",
      "metadata": {
        "colab": {
          "base_uri": "https://localhost:8080/",
          "height": 551
        },
        "id": "xx3tGfctaOeE",
        "outputId": "ae05ca78-9ea2-4001-e5d4-8f933ce5c2b9"
      },
      "source": [
        "## Creating a bar plot with the frequency of words:\n",
        "fig = plt.bar(most_common_genre.iloc[:,0], most_common_genre.iloc[:,1])\n",
        "\n",
        "## Adding labels and titles to the figure:\n",
        "plt.xlabel('Genre')\n",
        "plt.ylabel('Frequency')\n",
        "plt.rcParams['figure.figsize'] = (9,9)"
      ],
      "execution_count": 63,
      "outputs": [
        {
          "output_type": "display_data",
          "data": {
            "image/png": "[encoded data removed]",
            "text/plain": [
              "<Figure size 648x648 with 1 Axes>"
            ]
          },
          "metadata": {
            "tags": [],
            "needs_background": "light"
          }
        }
      ]
    },
    {
      "cell_type": "markdown",
      "metadata": {
        "id": "ZH0X00VKaZub"
      },
      "source": [
        "### Cluster 3"
      ]
    },
    {
      "cell_type": "code",
      "metadata": {
        "id": "TcW47JVdafMk"
      },
      "source": [
        "## Seeing the clusters:\n",
        "movies_cluster_3 = movies_df[movies_df['cluster']==3]"
      ],
      "execution_count": 64,
      "outputs": []
    },
    {
      "cell_type": "code",
      "metadata": {
        "id": "QdQSCKgwakWh"
      },
      "source": [
        "## Analysing the cluster genre:\n",
        "genre_string = ''.join(movies_cluster_3['genre'])\n",
        "genre_string = genre_string.replace(\"u\", \" \")"
      ],
      "execution_count": 65,
      "outputs": []
    },
    {
      "cell_type": "code",
      "metadata": {
        "colab": {
          "base_uri": "https://localhost:8080/",
          "height": 359
        },
        "id": "nsjKnHdManbD",
        "outputId": "79c99c97-d12e-4124-c348-240656d1c566"
      },
      "source": [
        "## But first we need to tokenize the whole string and then stemm it - using the tokenize_and_stem function:\n",
        "StemmedFullGenre = tokenize_and_stem(genre_string)\n",
        "\n",
        "## Calculate the frequency distribution of the words:\n",
        "fdist_genre = FreqDist(StemmedFullGenre)\n",
        "\n",
        "## Create a Dataframe with the content:\n",
        "most_common_genre = pd.DataFrame(fdist_genre.most_common(n=10), columns=['Word', 'Frequency'])\n",
        "most_common_genre"
      ],
      "execution_count": 66,
      "outputs": [
        {
          "output_type": "execute_result",
          "data": {
            "text/html": [
              "<div>\n",
              "<style scoped>\n",
              "    .dataframe tbody tr th:only-of-type {\n",
              "        vertical-align: middle;\n",
              "    }\n",
              "\n",
              "    .dataframe tbody tr th {\n",
              "        vertical-align: top;\n",
              "    }\n",
              "\n",
              "    .dataframe thead th {\n",
              "        text-align: right;\n",
              "    }\n",
              "</style>\n",
              "<table border=\"1\" class=\"dataframe\">\n",
              "  <thead>\n",
              "    <tr style=\"text-align: right;\">\n",
              "      <th></th>\n",
              "      <th>Word</th>\n",
              "      <th>Frequency</th>\n",
              "    </tr>\n",
              "  </thead>\n",
              "  <tbody>\n",
              "    <tr>\n",
              "      <th>0</th>\n",
              "      <td>drama</td>\n",
              "      <td>16</td>\n",
              "    </tr>\n",
              "    <tr>\n",
              "      <th>1</th>\n",
              "      <td>war</td>\n",
              "      <td>12</td>\n",
              "    </tr>\n",
              "    <tr>\n",
              "      <th>2</th>\n",
              "      <td>advent</td>\n",
              "      <td>9</td>\n",
              "    </tr>\n",
              "    <tr>\n",
              "      <th>3</th>\n",
              "      <td>action</td>\n",
              "      <td>6</td>\n",
              "    </tr>\n",
              "    <tr>\n",
              "      <th>4</th>\n",
              "      <td>biographi</td>\n",
              "      <td>4</td>\n",
              "    </tr>\n",
              "    <tr>\n",
              "      <th>5</th>\n",
              "      <td>western</td>\n",
              "      <td>4</td>\n",
              "    </tr>\n",
              "    <tr>\n",
              "      <th>6</th>\n",
              "      <td>histori</td>\n",
              "      <td>3</td>\n",
              "    </tr>\n",
              "    <tr>\n",
              "      <th>7</th>\n",
              "      <td>romanc</td>\n",
              "      <td>2</td>\n",
              "    </tr>\n",
              "    <tr>\n",
              "      <th>8</th>\n",
              "      <td>fantasi</td>\n",
              "      <td>2</td>\n",
              "    </tr>\n",
              "    <tr>\n",
              "      <th>9</th>\n",
              "      <td>sci-fi</td>\n",
              "      <td>1</td>\n",
              "    </tr>\n",
              "  </tbody>\n",
              "</table>\n",
              "</div>"
            ],
            "text/plain": [
              "        Word  Frequency\n",
              "0      drama         16\n",
              "1        war         12\n",
              "2     advent          9\n",
              "3     action          6\n",
              "4  biographi          4\n",
              "5    western          4\n",
              "6    histori          3\n",
              "7     romanc          2\n",
              "8    fantasi          2\n",
              "9     sci-fi          1"
            ]
          },
          "metadata": {
            "tags": []
          },
          "execution_count": 66
        }
      ]
    },
    {
      "cell_type": "code",
      "metadata": {
        "colab": {
          "base_uri": "https://localhost:8080/",
          "height": 551
        },
        "id": "PmTiPCA1asJ7",
        "outputId": "d8c87118-7e70-44ba-e8a5-3253bd5433bd"
      },
      "source": [
        "## Creating a bar plot with the frequency of words:\n",
        "fig = plt.bar(most_common_genre.iloc[:,0], most_common_genre.iloc[:,1])\n",
        "\n",
        "## Adding labels and titles to the figure:\n",
        "plt.xlabel('Genre')\n",
        "plt.ylabel('Frequency')\n",
        "plt.rcParams['figure.figsize'] = (9,9)"
      ],
      "execution_count": 67,
      "outputs": [
        {
          "output_type": "display_data",
          "data": {
            "image/png": "[encoded data removed]",
            "text/plain": [
              "<Figure size 648x648 with 1 Axes>"
            ]
          },
          "metadata": {
            "tags": [],
            "needs_background": "light"
          }
        }
      ]
    },
    {
      "cell_type": "markdown",
      "metadata": {
        "id": "61FibFRea7V4"
      },
      "source": [
        "### Cluster 4"
      ]
    },
    {
      "cell_type": "code",
      "metadata": {
        "id": "o_28mpqba-Zj"
      },
      "source": [
        "## Seeing the clusters:\n",
        "movies_cluster_4 = movies_df[movies_df['cluster']==4]"
      ],
      "execution_count": 47,
      "outputs": []
    },
    {
      "cell_type": "code",
      "metadata": {
        "id": "YsDBNAS3bDCN"
      },
      "source": [
        "## Analysing the cluster genre:\n",
        "genre_string = ''.join(movies_cluster_4['genre'])\n",
        "genre_string = genre_string.replace(\"u\", \" \")"
      ],
      "execution_count": 48,
      "outputs": []
    },
    {
      "cell_type": "code",
      "metadata": {
        "colab": {
          "base_uri": "https://localhost:8080/",
          "height": 359
        },
        "id": "YHJ_Yt3BbEz8",
        "outputId": "b11859bb-4edc-4023-f1e8-d244f8d577fb"
      },
      "source": [
        "## But first we need to tokenize the whole string and then stemm it - using the tokenize_and_stem function:\n",
        "StemmedFullGenre = tokenize_and_stem(genre_string)\n",
        "\n",
        "## Calculate the frequency distribution of the words:\n",
        "fdist_genre = FreqDist(StemmedFullGenre)\n",
        "\n",
        "## Create a Dataframe with the content:\n",
        "most_common_genre = pd.DataFrame(fdist_genre.most_common(n=10), columns=['Word', 'Frequency'])\n",
        "most_common_genre"
      ],
      "execution_count": 49,
      "outputs": [
        {
          "output_type": "execute_result",
          "data": {
            "text/html": [
              "<div>\n",
              "<style scoped>\n",
              "    .dataframe tbody tr th:only-of-type {\n",
              "        vertical-align: middle;\n",
              "    }\n",
              "\n",
              "    .dataframe tbody tr th {\n",
              "        vertical-align: top;\n",
              "    }\n",
              "\n",
              "    .dataframe thead th {\n",
              "        text-align: right;\n",
              "    }\n",
              "</style>\n",
              "<table border=\"1\" class=\"dataframe\">\n",
              "  <thead>\n",
              "    <tr style=\"text-align: right;\">\n",
              "      <th></th>\n",
              "      <th>Word</th>\n",
              "      <th>Frequency</th>\n",
              "    </tr>\n",
              "  </thead>\n",
              "  <tbody>\n",
              "    <tr>\n",
              "      <th>0</th>\n",
              "      <td>drama</td>\n",
              "      <td>16</td>\n",
              "    </tr>\n",
              "    <tr>\n",
              "      <th>1</th>\n",
              "      <td>romanc</td>\n",
              "      <td>9</td>\n",
              "    </tr>\n",
              "    <tr>\n",
              "      <th>2</th>\n",
              "      <td>m</td>\n",
              "      <td>5</td>\n",
              "    </tr>\n",
              "    <tr>\n",
              "      <th>3</th>\n",
              "      <td>biographi</td>\n",
              "      <td>4</td>\n",
              "    </tr>\n",
              "    <tr>\n",
              "      <th>4</th>\n",
              "      <td>comedi</td>\n",
              "      <td>4</td>\n",
              "    </tr>\n",
              "    <tr>\n",
              "      <th>5</th>\n",
              "      <td>sical</td>\n",
              "      <td>3</td>\n",
              "    </tr>\n",
              "    <tr>\n",
              "      <th>6</th>\n",
              "      <td>sic</td>\n",
              "      <td>2</td>\n",
              "    </tr>\n",
              "    <tr>\n",
              "      <th>7</th>\n",
              "      <td>war</td>\n",
              "      <td>2</td>\n",
              "    </tr>\n",
              "    <tr>\n",
              "      <th>8</th>\n",
              "      <td>sport</td>\n",
              "      <td>1</td>\n",
              "    </tr>\n",
              "    <tr>\n",
              "      <th>9</th>\n",
              "      <td>mysteri</td>\n",
              "      <td>1</td>\n",
              "    </tr>\n",
              "  </tbody>\n",
              "</table>\n",
              "</div>"
            ],
            "text/plain": [
              "        Word  Frequency\n",
              "0      drama         16\n",
              "1     romanc          9\n",
              "2          m          5\n",
              "3  biographi          4\n",
              "4     comedi          4\n",
              "5      sical          3\n",
              "6        sic          2\n",
              "7        war          2\n",
              "8      sport          1\n",
              "9    mysteri          1"
            ]
          },
          "metadata": {
            "tags": []
          },
          "execution_count": 49
        }
      ]
    },
    {
      "cell_type": "code",
      "metadata": {
        "colab": {
          "base_uri": "https://localhost:8080/",
          "height": 551
        },
        "id": "0FK1AvirbG0c",
        "outputId": "35a1a522-5d04-4577-cf9d-a3d3991861c8"
      },
      "source": [
        "## Creating a bar plot with the frequency of words:\n",
        "fig = plt.bar(most_common_genre.iloc[:,0], most_common_genre.iloc[:,1])\n",
        "\n",
        "## Adding labels and titles to the figure:\n",
        "plt.xlabel('Genre')\n",
        "plt.ylabel('Frequency')\n",
        "plt.rcParams['figure.figsize'] = (9,9)"
      ],
      "execution_count": 68,
      "outputs": [
        {
          "output_type": "display_data",
          "data": {
            "image/png": "[encoded data removed]",
            "text/plain": [
              "<Figure size 648x648 with 1 Axes>"
            ]
          },
          "metadata": {
            "tags": [],
            "needs_background": "light"
          }
        }
      ]
    },
    {
      "cell_type": "markdown",
      "metadata": {
        "id": "CfaCBo4GJBH8"
      },
      "source": [
        "# Model Deployment - Latent Dirichlet Allocation (LDA)"
      ]
    },
    {
      "cell_type": "markdown",
      "metadata": {
        "id": "NbJa0Wn3Jz42"
      },
      "source": [
        "## CountVectorizer"
      ]
    },
    {
      "cell_type": "code",
      "metadata": {
        "id": "GJtkD9yIJnS3"
      },
      "source": [
        "## Importing the needed libraries:\n",
        "from sklearn.feature_extraction.text import CountVectorizer"
      ],
      "execution_count": 69,
      "outputs": []
    },
    {
      "cell_type": "code",
      "metadata": {
        "id": "LeonhUYRJstT"
      },
      "source": [
        "## Instancing the count vectorizor:\n",
        "count_vectorizer = CountVectorizer(max_df=0.7,\n",
        "                                   min_df=0.2,\n",
        "                                   stop_words='english')"
      ],
      "execution_count": 70,
      "outputs": []
    },
    {
      "cell_type": "code",
      "metadata": {
        "id": "EtlYsv0PJugu"
      },
      "source": [
        "## Fit and transform the plots of the processed titles:\n",
        "count_data = count_vectorizer.fit_transform(movies_df['plot'])"
      ],
      "execution_count": 71,
      "outputs": []
    },
    {
      "cell_type": "markdown",
      "metadata": {
        "id": "UZBSp28RJ2yG"
      },
      "source": [
        "## LDA Model Application - Coherence Analysis"
      ]
    },
    {
      "cell_type": "markdown",
      "metadata": {
        "id": "njJ_MXKQLLXj"
      },
      "source": [
        "### Importing libraries and function formulation"
      ]
    },
    {
      "cell_type": "code",
      "metadata": {
        "id": "07YJCABkL1X1"
      },
      "source": [
        "## Importing warnings and needed libraries:\n",
        "import warnings\n",
        "warnings.simplefilter('ignore', DeprecationWarning)\n",
        "\n",
        "## Importing the LDA model from sklearn:\n",
        "from sklearn.decomposition import LatentDirichletAllocation as LDA "
      ],
      "execution_count": 72,
      "outputs": []
    },
    {
      "cell_type": "code",
      "metadata": {
        "id": "iesCKRH0L4QO"
      },
      "source": [
        "# Create function to print the topics main words\n",
        "def print_topics(model, count_vectorizer, n_top_words):\n",
        "  words = count_vectorizer.get_feature_names()\n",
        "  for topic_idx, topic in enumerate(model.components_):\n",
        "    print('\\nTopic #%d:' % topic_idx)\n",
        "    print(' '.join([words[i] for i in topic.argsort()[:-n_top_words - 1:-1]]))"
      ],
      "execution_count": 73,
      "outputs": []
    },
    {
      "cell_type": "markdown",
      "metadata": {
        "id": "9L08nJnsL87x"
      },
      "source": [
        "### Creating the Model"
      ]
    },
    {
      "cell_type": "code",
      "metadata": {
        "colab": {
          "base_uri": "https://localhost:8080/"
        },
        "id": "s90g-exFMCcN",
        "outputId": "99dbb145-270d-406c-bbfd-a66046e6ed39"
      },
      "source": [
        "## Select the parameters for the model:\n",
        "number_topics = 3\n",
        "number_words = 15\n",
        "\n",
        "## Instancing and fitting the LDA model:\n",
        "lda = LDA(n_components=number_topics)\n",
        "topic_list = lda.fit_transform(count_data)\n",
        "\n",
        "## Print the topics found by the LDA model:\n",
        "print('Topics found via LDA:')\n",
        "print_topics(lda, count_vectorizer, number_words)"
      ],
      "execution_count": 74,
      "outputs": [
        {
          "output_type": "stream",
          "text": [
            "Topics found via LDA:\n",
            "\n",
            "Topic #0:\n",
            "george police car john asks day goes says tries apartment house mr room father wife\n",
            "\n",
            "Topic #1:\n",
            "family father war mother children brother way years love returns film son return daughter young\n",
            "\n",
            "Topic #2:\n",
            "men killed war army water orders soldiers death don attack general dead group town kill\n"
          ],
          "name": "stdout"
        }
      ]
    }
  ]
}